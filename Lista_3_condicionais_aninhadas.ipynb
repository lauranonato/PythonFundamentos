{
  "nbformat": 4,
  "nbformat_minor": 0,
  "metadata": {
    "colab": {
      "name": "Lista 3 - condicionais aninhadas",
      "provenance": [],
      "authorship_tag": "ABX9TyNjYx/ooOwY/w2jt+joMc7i",
      "include_colab_link": true
    },
    "kernelspec": {
      "name": "python3",
      "display_name": "Python 3"
    }
  },
  "cells": [
    {
      "cell_type": "markdown",
      "metadata": {
        "id": "view-in-github",
        "colab_type": "text"
      },
      "source": [
        "<a href=\"https://colab.research.google.com/github/lauranonato/PythonFundamentos/blob/main/Lista_3_condicionais_aninhadas.ipynb\" target=\"_parent\"><img src=\"https://colab.research.google.com/assets/colab-badge.svg\" alt=\"Open In Colab\"/></a>"
      ]
    },
    {
      "cell_type": "markdown",
      "metadata": {
        "id": "KIx-SSlXoMzm"
      },
      "source": [
        "Crie um programa que receba dois valores inteiros e apresente como resposta qual destes números é o maior ou se eles são iguais."
      ]
    },
    {
      "cell_type": "code",
      "metadata": {
        "id": "YSpBtfwPobWy",
        "colab": {
          "base_uri": "https://localhost:8080/",
          "height": 131
        },
        "outputId": "b3c3ce56-cbd4-4109-a8a9-61aa67732f71"
      },
      "source": [
        "v1 = int(input('Insira um valor: '))\n",
        "v2 = int(input('Insira um valor: '))\n",
        "if v1 == v1:\n",
        "  print('O valor {} e {} são iguais'.format(v1,v2))\n",
        "  elif v1 > v2:\n",
        "    print('O valor {} é maior que {}'.format(v1,v2))\n",
        "  elif v2 > v2:\n",
        "    print('O valor {} é maior que {}'.format(v2,v1))\n",
        "else:\n",
        "  print('Os valores inseridos foram {} e {}'.format(v1,v2))"
      ],
      "execution_count": null,
      "outputs": [
        {
          "output_type": "error",
          "ename": "SyntaxError",
          "evalue": "ignored",
          "traceback": [
            "\u001b[0;36m  File \u001b[0;32m\"<ipython-input-1-df01fea8fd1a>\"\u001b[0;36m, line \u001b[0;32m5\u001b[0m\n\u001b[0;31m    elif v1 > v2:\u001b[0m\n\u001b[0m       ^\u001b[0m\n\u001b[0;31mSyntaxError\u001b[0m\u001b[0;31m:\u001b[0m invalid syntax\n"
          ]
        }
      ]
    },
    {
      "cell_type": "markdown",
      "metadata": {
        "id": "iWXoAhIXvJMi"
      },
      "source": [
        "Crie um código que receba a qual o nível de escolaridade de uma pessoa e escreva qual seria um próximo passo de estudo para ela sendo: se é formado no ensino médio um próximo passo é a faculdade; formado na faculdade, o próximo passo mestrado; formado em mestrado, doutorado; se for doutor imprima uma mensagem de parabéns.\n"
      ]
    },
    {
      "cell_type": "code",
      "metadata": {
        "colab": {
          "base_uri": "https://localhost:8080/"
        },
        "id": "Y6kNq_navO9M",
        "outputId": "e5aa9847-1ea8-45f6-c570-9e2bbe81fd99"
      },
      "source": [
        "escolaridade = input('Qual seu nivel de escolaridade? ')\n",
        "if escolaridade == 'ensino médio':\n",
        "  print('próximo passo é a faculdade')\n",
        "elif escolaridade == 'faculdade':\n",
        "  print('proximo passo é o mestrado')\n",
        "elif escolaridade == 'mestrado':\n",
        "    print('proximo passo é o doutorado')\n",
        "else:\n",
        "  print('Parabéns!')"
      ],
      "execution_count": null,
      "outputs": [
        {
          "output_type": "stream",
          "text": [
            "Qual seu nivel de escolaridade? faculdade\n",
            "proximo passo é o mestrado\n"
          ],
          "name": "stdout"
        }
      ]
    },
    {
      "cell_type": "markdown",
      "metadata": {
        "id": "aqN4jRzuwjTc"
      },
      "source": [
        "Escreva um código que receba três notas de um aluno, calcule a média aritmética destes valores e por fim mostre uma mensagem seguindo os critérios a seguir: média abaixo de 5.0 REPROVADO; média maior que 5.0, mas menor que 7.0 RECUPERAÇÃO; média maior ou igual a 7.0 APROVADO!\n"
      ]
    },
    {
      "cell_type": "code",
      "metadata": {
        "colab": {
          "base_uri": "https://localhost:8080/"
        },
        "id": "wjw0KAJywm2m",
        "outputId": "25fa11df-ef17-4f53-bd48-a62c7f226108"
      },
      "source": [
        "n1 = float(input('Nota 1: '))\n",
        "n2 = float(input('Nota 2: '))\n",
        "n3 = float(input('Nota 3: '))\n",
        "\n",
        "ma = (n1+n2+n3)/3\n",
        "if ma < 5.0:\n",
        "  print('Reprovado')\n",
        "elif ma > 5.0 and ma < 7.0:\n",
        "  print('Reprovado')\n",
        "else:\n",
        "  print('Aprovado')"
      ],
      "execution_count": null,
      "outputs": [
        {
          "output_type": "stream",
          "text": [
            "Nota 1: 4\n",
            "Nota 2: 6\n",
            "Nota 3: 9\n",
            "Reprovado\n"
          ],
          "name": "stdout"
        }
      ]
    },
    {
      "cell_type": "markdown",
      "metadata": {
        "id": "dZo9puCByYcG"
      },
      "source": [
        "Uma escola de inglês gostaria de classificar os alunos cadastrados no seu sistema nas respectivas turmas por idade. Crie um programa que receba a idade do aluno e mostre a categoria à que pertence seguindo a classificação abaixo:\n",
        "Turma Infantil: de 5 a 10 anos\n",
        "Turma Júnior: de 11 a 13 anos\n",
        "Turma Teen: de 14 a 18 anos\n",
        "Turma Sênior: de 19 a 60 anos\n",
        "Turma Master: acima de 60 anos\n"
      ]
    },
    {
      "cell_type": "code",
      "metadata": {
        "colab": {
          "base_uri": "https://localhost:8080/"
        },
        "id": "_zj2wU1Oydk0",
        "outputId": "33295b2f-3928-4bd6-916a-458db06d3418"
      },
      "source": [
        "idade = int(input('Qual a sua idade? '))\n",
        "if idade >= 5 and idade <= 10:\n",
        "  print('Turma infantil')\n",
        "elif idade >= 11 and idade <= 13:\n",
        "  print('Turma Junior')\n",
        "elif idade >= 14 and idade <= 18:\n",
        "  print('Turma Teen')\n",
        "elif idade >= 19 and idade <= 60:\n",
        "  print('Turma Senior')\n",
        "\n",
        "else:\n",
        "  print('Turma Master')"
      ],
      "execution_count": null,
      "outputs": [
        {
          "output_type": "stream",
          "text": [
            "Qual a sua idade? 80\n",
            "Turma Master\n"
          ],
          "name": "stdout"
        }
      ]
    },
    {
      "cell_type": "markdown",
      "metadata": {
        "id": "CXlrzJU81ErV"
      },
      "source": [
        " Faça um Programa que pergunte em que turno você estuda. Peça para digitar M- matutino ou V -Vespertino ou N- Noturno. Imprima a mensagem \"Bom Dia!\", \"Boa Tarde!\" ou \"Boa Noite!\" respectivamente, ou \"Valor Inválido!\" se não for inserida nenhuma das programações válidas.\n"
      ]
    },
    {
      "cell_type": "code",
      "metadata": {
        "id": "7MVnhfUQ1QqP"
      },
      "source": [
        "turno = input('Qual o turno voce estuda? Digite M ou V: ')\n",
        "if "
      ],
      "execution_count": null,
      "outputs": []
    }
  ]
}