{
 "cells": [
  {
   "attachments": {},
   "cell_type": "markdown",
   "metadata": {},
   "source": [
    "MANIPULANDO TEXTOS"
   ]
  },
  {
   "attachments": {},
   "cell_type": "markdown",
   "metadata": {},
   "source": [
    "ex 22 analisador de textos"
   ]
  },
  {
   "cell_type": "code",
   "execution_count": 7,
   "metadata": {},
   "outputs": [
    {
     "name": "stdout",
     "output_type": "stream",
     "text": [
      "analisando seu nome...\n",
      " em maiúsculas é LAURA MIRANDA NONATO\n",
      " em minúsculas é laura miranda nonato\n",
      " o nome todo tem 20 letras\n",
      " e o primeiro nome é Laura e tem 5 letras\n"
     ]
    }
   ],
   "source": [
    "nome = input(\"digite seu nome: \")\n",
    "maiscula = nome.upper()\n",
    "minuscula = nome.lower()\n",
    "qt = len(nome)\n",
    "divide = nome.split()\n",
    "primeiro_nome = divide[0]\n",
    "qt_primeiro_nome = len(primeiro_nome)\n",
    "#poderia fazer (len(primeiro_nome) - nome.count(' ')\n",
    "print(\"analisando seu nome...\\n em maiúsculas é {}\\n em minúsculas é {}\\n o nome todo tem {} letras\\n e o primeiro nome é {} e tem {} letras\"\n",
    "      .format(maiscula,minuscula,qt,primeiro_nome,qt_primeiro_nome))"
   ]
  },
  {
   "attachments": {},
   "cell_type": "markdown",
   "metadata": {},
   "source": [
    "ex 23 separando digitos de um numero"
   ]
  },
  {
   "cell_type": "code",
   "execution_count": 8,
   "metadata": {},
   "outputs": [
    {
     "name": "stdout",
     "output_type": "stream",
     "text": [
      "unidade 3\n",
      "dezena 2\n",
      "centena 0\n",
      "milhar 0\n"
     ]
    }
   ],
   "source": [
    "numero = int(input(\"digite um numero: \"))\n",
    "unidade = numero // 1 % 10 #poderia ser caso string numero[1:]\n",
    "dezena = numero // 10 % 10 # caso string numero[0]\n",
    "centena = numero // 100 % 10\n",
    "milhar = numero // 1000 % 10\n",
    "print(\"unidade {}\".format(unidade))\n",
    "print(\"dezena {}\".format(dezena))\n",
    "print(\"centena {}\".format(centena))\n",
    "print(\"milhar {}\".format(milhar))"
   ]
  },
  {
   "attachments": {},
   "cell_type": "markdown",
   "metadata": {},
   "source": [
    "ex 24 verificando as primeiras letras de uma string"
   ]
  },
  {
   "cell_type": "code",
   "execution_count": 18,
   "metadata": {},
   "outputs": [
    {
     "data": {
      "text/plain": [
       "True"
      ]
     },
     "execution_count": 18,
     "metadata": {},
     "output_type": "execute_result"
    }
   ],
   "source": [
    "cidade = input(\"digite o nome da cidade que vc nasceu: \")\n",
    "cidade_sem_espaco = cidade.strip()\n",
    "cidade_normalizada = cidade_sem_espaco.capitalize()\n",
    "#print(cidade_normalizada)\n",
    "'Santo' in cidade_normalizada"
   ]
  },
  {
   "attachments": {},
   "cell_type": "markdown",
   "metadata": {},
   "source": [
    "ex 25 procure uma string dentro de outra"
   ]
  },
  {
   "cell_type": "code",
   "execution_count": 23,
   "metadata": {},
   "outputs": [
    {
     "name": "stdout",
     "output_type": "stream",
     "text": [
      "seu nome tem Silva?  True\n"
     ]
    }
   ],
   "source": [
    "nome = input(\"qual seu nome completo? \").strip()\n",
    "nome_normalizado = nome.upper()\n",
    "print(\"seu nome tem Silva? \", 'SILVA' in nome_normalizado)"
   ]
  },
  {
   "attachments": {},
   "cell_type": "markdown",
   "metadata": {},
   "source": [
    "ex 26 Primeira e última ocorrência de uma string"
   ]
  },
  {
   "cell_type": "code",
   "execution_count": 29,
   "metadata": {},
   "outputs": [
    {
     "name": "stdout",
     "output_type": "stream",
     "text": [
      "a letra A aparece 4 vezes na frase.\n",
      "a primeira letra A apareceu na posição 0\n",
      "a ultima letra A apareceu na posição 6\n"
     ]
    }
   ],
   "source": [
    "frase = input(\"digite uma frase: \").strip().lower()\n",
    "print(\"a letra A aparece {} vezes na frase.\".format(frase.count('a')))\n",
    "print(\"a primeira letra A apareceu na posição {}\".format(frase.find('a')))\n",
    "print(\"a ultima letra A apareceu na posição {}\".format(frase.rfind('a')))"
   ]
  },
  {
   "attachments": {},
   "cell_type": "markdown",
   "metadata": {},
   "source": [
    "ex 27 Primeiro e último nome de uma pessoa"
   ]
  },
  {
   "cell_type": "code",
   "execution_count": 36,
   "metadata": {},
   "outputs": [
    {
     "name": "stdout",
     "output_type": "stream",
     "text": [
      "muito prazer em te conhecer!\n",
      "primeiro nome: MARCOS\n",
      "ultimo nome: JUNIOR\n"
     ]
    }
   ],
   "source": [
    "nome = input(\"digite seu nome completo: \").strip().upper()\n",
    "print(\"muito prazer em te conhecer!\")\n",
    "nome_lista = nome.split()\n",
    "primeiro_nome = nome_lista[0]\n",
    "tamanho = len(nome_lista)\n",
    "ultimo_nome = nome_lista[tamanho - 1]\n",
    "print(\"primeiro nome: {}\".format(primeiro_nome))\n",
    "print(\"ultimo nome: {}\".format(ultimo_nome))"
   ]
  }
 ],
 "metadata": {
  "kernelspec": {
   "display_name": "Python 3",
   "language": "python",
   "name": "python3"
  },
  "language_info": {
   "codemirror_mode": {
    "name": "ipython",
    "version": 3
   },
   "file_extension": ".py",
   "mimetype": "text/x-python",
   "name": "python",
   "nbconvert_exporter": "python",
   "pygments_lexer": "ipython3",
   "version": "3.10.4"
  },
  "orig_nbformat": 4
 },
 "nbformat": 4,
 "nbformat_minor": 2
}
