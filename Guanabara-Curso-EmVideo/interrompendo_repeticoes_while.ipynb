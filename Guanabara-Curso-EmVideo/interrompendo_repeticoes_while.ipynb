{
 "cells": [
  {
   "attachments": {},
   "cell_type": "markdown",
   "metadata": {},
   "source": [
    "Interrompendo repetições WHILE"
   ]
  },
  {
   "attachments": {},
   "cell_type": "markdown",
   "metadata": {},
   "source": [
    "EX 66 varios numeros com flag"
   ]
  },
  {
   "cell_type": "code",
   "execution_count": 4,
   "metadata": {},
   "outputs": [
    {
     "name": "stdout",
     "output_type": "stream",
     "text": [
      "a soma dos 4 valores digitados é 19\n"
     ]
    }
   ],
   "source": [
    "soma = 0\n",
    "cont = 0\n",
    "\n",
    "while True:\n",
    "    num = int(input(\"digite um numero inteiro [999 para o programa]: \"))\n",
    "    if num == 999:\n",
    "        break \n",
    "    soma += num \n",
    "    cont += 1\n",
    "print(f\"a soma dos {cont} valores digitados é {soma}\")    "
   ]
  },
  {
   "attachments": {},
   "cell_type": "markdown",
   "metadata": {},
   "source": [
    "EX 67 Tabuada 3.0"
   ]
  },
  {
   "cell_type": "code",
   "execution_count": 8,
   "metadata": {},
   "outputs": [
    {
     "name": "stdout",
     "output_type": "stream",
     "text": [
      "------------------------------------------------------------------------------------------\n",
      "12 x 1 = 12\n",
      "12 x 2 = 24\n",
      "12 x 3 = 36\n",
      "12 x 4 = 48\n",
      "12 x 5 = 60\n",
      "12 x 6 = 72\n",
      "12 x 7 = 84\n",
      "12 x 8 = 96\n",
      "12 x 9 = 108\n",
      "12 x 10 = 120\n",
      "------------------------------------------------------------------------------------------\n",
      "13 x 1 = 13\n",
      "13 x 2 = 26\n",
      "13 x 3 = 39\n",
      "13 x 4 = 52\n",
      "13 x 5 = 65\n",
      "13 x 6 = 78\n",
      "13 x 7 = 91\n",
      "13 x 8 = 104\n",
      "13 x 9 = 117\n",
      "13 x 10 = 130\n"
     ]
    }
   ],
   "source": [
    "while True:\n",
    "    num = int(input(\"de qual valor voce deseja ver a tabuada?\"))\n",
    "    if num < 0:\n",
    "        break   \n",
    "    print(\"---\"*30)\n",
    "    for i in range(1,11):\n",
    "        multiplicacao = num * i \n",
    "        print(f\"{num} x {i} = {multiplicacao}\")         "
   ]
  },
  {
   "attachments": {},
   "cell_type": "markdown",
   "metadata": {},
   "source": [
    "EX 68 Par ou Impar"
   ]
  },
  {
   "cell_type": "code",
   "execution_count": 23,
   "metadata": {},
   "outputs": [
    {
     "name": "stdout",
     "output_type": "stream",
     "text": [
      "perdeu :/\n",
      "Game Over! Você venceu 0 vez(es)\n"
     ]
    }
   ],
   "source": [
    "#se a soma for impar parar o programa\n",
    "from random import randint \n",
    "cont = 0\n",
    "\n",
    "while True:\n",
    "    num_computador = randint(0,10)\n",
    "    num_jogador = int(input(\"digite um numero inteiro: \"))\n",
    "    escolha = input(\"Par ou Impar? [P/I]: \").upper()\n",
    "    soma = num_jogador + num_computador\n",
    "    if soma%2 == 0:\n",
    "        if escolha == 'P':\n",
    "            print(f\"você jogou {num_jogador} e o computador {num_computador}. A soma foi {soma}. \\n voce venceu! jogue novamente! :)\")\n",
    "            cont += 1\n",
    "        else: \n",
    "            print(\"perdeu :/\")   \n",
    "            break\n",
    "    if soma%2 != 0:\n",
    "        if escolha == 'I':\n",
    "            print(f\"você jogou {num_jogador} e o computador {num_computador}. A soma foi {soma}. \\n voce venceu! jogue novamente! :)\")\n",
    "            cont += 1\n",
    "        else: \n",
    "            print(\"perdeu :/\")   \n",
    "            break\n",
    "print(f\"Game Over! Você venceu {cont} vez(es)\") "
   ]
  },
  {
   "attachments": {},
   "cell_type": "markdown",
   "metadata": {},
   "source": [
    "EX 69 Analise de dados de um grupo de pessoas cadastradas"
   ]
  },
  {
   "cell_type": "code",
   "execution_count": 32,
   "metadata": {},
   "outputs": [
    {
     "name": "stdout",
     "output_type": "stream",
     "text": [
      "CADASTRE UMA PESSOA\n",
      "CADASTRE UMA PESSOA\n",
      "CADASTRE UMA PESSOA\n",
      "CADASTRE UMA PESSOA\n",
      "CADASTRE UMA PESSOA\n",
      "CADASTRE UMA PESSOA\n",
      "total de pessoas com mais de 18 anos: 3\n",
      "total de homens cadastrados: 0\n",
      "total de mulheres menores de 20 anos: 2\n"
     ]
    }
   ],
   "source": [
    "cont_maioridade = 0\n",
    "cont_homens = 0\n",
    "cont_mulheres = 0\n",
    "\n",
    "while True:\n",
    "    print('CADASTRE UMA PESSOA')\n",
    "    idade = int(input(\"Idade: \"))\n",
    "    sexo = input(\"M/F\").upper()\n",
    "    escolha = input('Deseja continuar? [S/N]').upper()\n",
    "    if escolha != 'S':\n",
    "        break \n",
    "    if idade >= 18:\n",
    "        cont_maioridade += 1\n",
    "    if sexo == 'M':\n",
    "        cont_homens += 1   \n",
    "    if sexo == 'F' and idade <= 20:\n",
    "        cont_mulheres += 1   \n",
    "print(f\"total de pessoas com mais de 18 anos: {cont_maioridade}\\ntotal de homens cadastrados: {cont_homens}\\ntotal de mulheres menores de 20 anos: {cont_mulheres}\")"
   ]
  },
  {
   "attachments": {},
   "cell_type": "markdown",
   "metadata": {},
   "source": [
    "EX 70 Estatisticas em produtos"
   ]
  },
  {
   "cell_type": "code",
   "execution_count": 19,
   "metadata": {},
   "outputs": [
    {
     "name": "stdout",
     "output_type": "stream",
     "text": [
      "------------FIM DO PROGRAMA-------------\n",
      "O total da compra foi R$198.00.\n",
      "Temos 0 custando mais de R$ 1.000,00.\n",
      "lapiseira foi produto o mais barato e custou R$5\n"
     ]
    }
   ],
   "source": [
    "cont_produtos = 0\n",
    "soma_produtos = 0\n",
    "cont_produto_caro = 0\n",
    "menor_preco = 0\n",
    "produto_barato = ' '\n",
    "\n",
    "while True:\n",
    "    nome_produto = input(\"nome do produto: \")\n",
    "    preco = int(input(\"preço: R$\"))\n",
    "    soma_produtos += preco \n",
    "    cont_produtos += 1\n",
    "    if preco > 1000:\n",
    "        cont_produto_caro += 1  \n",
    "    if cont_produtos == 1:\n",
    "        menor_preco = preco  \n",
    "        produto_barato = nome_produto   \n",
    "    else:\n",
    "        if preco < menor_preco:\n",
    "            menor_preco = preco  \n",
    "            produto_barato = nome_produto    \n",
    "    escolha = ' '        \n",
    "    while escolha not in 'SN':\n",
    "        escolha = input('Deseja continuar? [S/N]').upper()\n",
    "    if escolha != 'S':    \n",
    "        break  \n",
    "print(\"{:-^40}\".format(\"FIM DO PROGRAMA\"))      \n",
    "print(f\"O total da compra foi R${soma_produtos:.2f}.\\nTemos {cont_produto_caro} custando mais de R$ 1.000,00.\\n{produto_barato} foi produto o mais barato e custou R${menor_preco}\")    "
   ]
  }
 ],
 "metadata": {
  "kernelspec": {
   "display_name": "Python 3",
   "language": "python",
   "name": "python3"
  },
  "language_info": {
   "codemirror_mode": {
    "name": "ipython",
    "version": 3
   },
   "file_extension": ".py",
   "mimetype": "text/x-python",
   "name": "python",
   "nbconvert_exporter": "python",
   "pygments_lexer": "ipython3",
   "version": "3.10.4"
  },
  "orig_nbformat": 4
 },
 "nbformat": 4,
 "nbformat_minor": 2
}
