{
 "cells": [
  {
   "attachments": {},
   "cell_type": "markdown",
   "metadata": {},
   "source": [
    "**FUNCOES PARTE 1**"
   ]
  },
  {
   "attachments": {},
   "cell_type": "markdown",
   "metadata": {},
   "source": [
    "EX 96 CALCULO DE AREA"
   ]
  },
  {
   "cell_type": "code",
   "execution_count": 4,
   "metadata": {},
   "outputs": [],
   "source": [
    "def area(largura,comprimento):\n",
    "    calc = largura * comprimento\n",
    "    print(f\"a area de um terreno {largura}x{comprimento} é de {calc}m²\")"
   ]
  },
  {
   "cell_type": "code",
   "execution_count": 5,
   "metadata": {},
   "outputs": [
    {
     "name": "stdout",
     "output_type": "stream",
     "text": [
      "a area de um terreno 10x25.5 é de 255.0m²\n"
     ]
    }
   ],
   "source": [
    "area(10,25.5)"
   ]
  },
  {
   "attachments": {},
   "cell_type": "markdown",
   "metadata": {},
   "source": [
    "EX 97 PRINT ESPECIAL"
   ]
  },
  {
   "cell_type": "code",
   "execution_count": 6,
   "metadata": {},
   "outputs": [],
   "source": [
    "def escreva(frase):\n",
    "    tamanho = len(frase)\n",
    "    print('~'*tamanho)\n",
    "    print(f'{frase:^{tamanho}}') #centralizar \n",
    "    print('~'*tamanho)"
   ]
  },
  {
   "cell_type": "code",
   "execution_count": 10,
   "metadata": {},
   "outputs": [
    {
     "name": "stdout",
     "output_type": "stream",
     "text": [
      "~~~~~~~~~~~~~~~~~~~~~~~~~~~~~~~~~~~~~~~~~~~~~\n",
      "festa junina: milho, fogueira e vinho quente!\n",
      "~~~~~~~~~~~~~~~~~~~~~~~~~~~~~~~~~~~~~~~~~~~~~\n"
     ]
    }
   ],
   "source": [
    "escreva(\"festa junina: milho, fogueira e vinho quente!\")"
   ]
  },
  {
   "cell_type": "code",
   "execution_count": 11,
   "metadata": {},
   "outputs": [
    {
     "name": "stdout",
     "output_type": "stream",
     "text": [
      "~~~~~~~~~~~~~~~~~~~~~~~~~~~~\n",
      "python para analise de dados\n",
      "~~~~~~~~~~~~~~~~~~~~~~~~~~~~\n"
     ]
    }
   ],
   "source": [
    "escreva(\"python para analise de dados\")"
   ]
  },
  {
   "cell_type": "code",
   "execution_count": 13,
   "metadata": {},
   "outputs": [
    {
     "name": "stdout",
     "output_type": "stream",
     "text": [
      "~~~~~~~~\n",
      "caminhar\n",
      "~~~~~~~~\n"
     ]
    }
   ],
   "source": [
    "escreva(\"caminhar\")"
   ]
  },
  {
   "attachments": {},
   "cell_type": "markdown",
   "metadata": {},
   "source": [
    "EX 98 FUNÇÃO DO CONTADOR"
   ]
  },
  {
   "cell_type": "code",
   "execution_count": 36,
   "metadata": {},
   "outputs": [],
   "source": [
    "def contagem(ini,fim,passo):\n",
    "    lista = []\n",
    "    if ini < fim:\n",
    "        for i in range(ini,fim,passo):\n",
    "            lista.append(i)\n",
    "        print(f'{lista} FIM!')\n",
    "    else:\n",
    "        for i in range(fim,ini,passo):\n",
    "            lista.append(i)\n",
    "        print(f'{lista} FIM!')\n"
   ]
  },
  {
   "cell_type": "code",
   "execution_count": 27,
   "metadata": {},
   "outputs": [
    {
     "name": "stdout",
     "output_type": "stream",
     "text": [
      "[1, 2, 3, 4, 5, 6, 7, 8, 9] FIM!\n"
     ]
    }
   ],
   "source": [
    "contagem(1,10,1)"
   ]
  },
  {
   "cell_type": "code",
   "execution_count": 38,
   "metadata": {},
   "outputs": [
    {
     "name": "stdout",
     "output_type": "stream",
     "text": [
      "[0, 2, 4, 6, 8] FIM!\n"
     ]
    }
   ],
   "source": [
    "contagem(10,0,2)"
   ]
  },
  {
   "cell_type": "code",
   "execution_count": 37,
   "metadata": {},
   "outputs": [
    {
     "name": "stdout",
     "output_type": "stream",
     "text": [
      "[0, 2, 4, 6, 8] FIM!\n"
     ]
    }
   ],
   "source": [
    "contagem(0,10,2)"
   ]
  },
  {
   "cell_type": "code",
   "execution_count": 35,
   "metadata": {},
   "outputs": [
    {
     "name": "stdout",
     "output_type": "stream",
     "text": [
      "[20, 16, 12, 8, 4] FIM!\n"
     ]
    }
   ],
   "source": [
    "contagem(20,0,-4)"
   ]
  },
  {
   "attachments": {},
   "cell_type": "markdown",
   "metadata": {},
   "source": [
    "EX 99 MAIOR VALOR"
   ]
  },
  {
   "cell_type": "code",
   "execution_count": 62,
   "metadata": {},
   "outputs": [],
   "source": [
    "def maior(* num): #* indica que posso receber varios parametros\n",
    "   if num == ():\n",
    "      print(\"por favor, informe parametros\")\n",
    "   else: \n",
    "        lista = list(num)\n",
    "        maior = max(lista)\n",
    "        print(f\"maior valor {maior}\")\n"
   ]
  },
  {
   "cell_type": "code",
   "execution_count": 59,
   "metadata": {},
   "outputs": [
    {
     "name": "stdout",
     "output_type": "stream",
     "text": [
      "maior valor 230\n"
     ]
    }
   ],
   "source": [
    "maior(2,9,45,8,3,7,1,2,230)"
   ]
  },
  {
   "cell_type": "code",
   "execution_count": 63,
   "metadata": {},
   "outputs": [
    {
     "name": "stdout",
     "output_type": "stream",
     "text": [
      "por favor, informe parametros\n"
     ]
    }
   ],
   "source": [
    "maior()"
   ]
  },
  {
   "attachments": {},
   "cell_type": "markdown",
   "metadata": {},
   "source": [
    "EX 100 FUNÇÕES PARA SORTEAR E SOMAR"
   ]
  },
  {
   "cell_type": "code",
   "execution_count": 84,
   "metadata": {},
   "outputs": [],
   "source": [
    "from random import randint \n",
    "\n",
    "#funcao para sortear os valores\n",
    "def sortear(lista):\n",
    "    for i in range(0,5):\n",
    "        num = randint(0,100)\n",
    "        lista.append(num)\n",
    "    print(f'sorteando os {len(lista)} valores da lista: {lista}')\n",
    "\n",
    "def somar(lista):\n",
    "    lista_pares = []\n",
    "    for i in lista:\n",
    "        if i % 2 == 0:\n",
    "            lista_pares.append(i)\n",
    "    soma = sum(lista_pares)\n",
    "    print(f'somando os valores pares {lista_pares}, temos {soma}')\n"
   ]
  },
  {
   "cell_type": "code",
   "execution_count": 83,
   "metadata": {},
   "outputs": [
    {
     "name": "stdout",
     "output_type": "stream",
     "text": [
      "sorteando os 5 valores da lista: [17, 100, 78, 13, 48]\n",
      "somando os valores pares [100, 78, 48], temos 226\n"
     ]
    }
   ],
   "source": [
    "numeros = list()\n",
    "sortear(numeros)\n",
    "somar(numeros)"
   ]
  }
 ],
 "metadata": {
  "kernelspec": {
   "display_name": "Python 3",
   "language": "python",
   "name": "python3"
  },
  "language_info": {
   "codemirror_mode": {
    "name": "ipython",
    "version": 3
   },
   "file_extension": ".py",
   "mimetype": "text/x-python",
   "name": "python",
   "nbconvert_exporter": "python",
   "pygments_lexer": "ipython3",
   "version": "3.10.4"
  },
  "orig_nbformat": 4
 },
 "nbformat": 4,
 "nbformat_minor": 2
}
