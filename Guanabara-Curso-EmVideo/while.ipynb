{
 "cells": [
  {
   "attachments": {},
   "cell_type": "markdown",
   "metadata": {},
   "source": [
    "Estrutura de repeticao com while"
   ]
  },
  {
   "attachments": {},
   "cell_type": "markdown",
   "metadata": {},
   "source": [
    "EX 57 validação de dados"
   ]
  },
  {
   "cell_type": "code",
   "execution_count": 10,
   "metadata": {},
   "outputs": [
    {
     "name": "stdout",
     "output_type": "stream",
     "text": [
      "dado registrado com sucesso\n"
     ]
    }
   ],
   "source": [
    "sexo = input(\"informe seu sexo: [M/F] \").upper()\n",
    "while sexo != 'M' and sexo != 'F':\n",
    "    sexo = input(\"dados invalidos. por favor, informe seu sexo: \").upper()\n",
    "print('dado registrado com sucesso')    "
   ]
  },
  {
   "attachments": {},
   "cell_type": "markdown",
   "metadata": {},
   "source": [
    "EX 58 Jogo de adivinhacao 2.0"
   ]
  },
  {
   "cell_type": "code",
   "execution_count": 8,
   "metadata": {},
   "outputs": [
    {
     "name": "stdout",
     "output_type": "stream",
     "text": [
      "Sou seu computador... vou pensar em um numero entre 0 e 10. Tente adivinhar\n",
      "mais... tente mais uma vez\n",
      "mais... tente mais uma vez\n",
      "mais... tente mais uma vez\n",
      "Parabéns, voce acertou com 3 tentativas\n"
     ]
    }
   ],
   "source": [
    "from random import randint \n",
    "\n",
    "print(\"Sou seu computador... vou pensar em um numero entre 0 e 10. Tente adivinhar\")\n",
    "computador = randint(0,10)\n",
    "numero = int(input(\"qual seu palpite? \"))\n",
    "contador = 0\n",
    "\n",
    "while numero != computador:\n",
    "    if numero != computador and numero < computador:\n",
    "        print('mais... tente mais uma vez')\n",
    "        numero = int(input(\"qual seu palpite? \"))\n",
    "        contador += 1\n",
    "    if numero != computador and numero > computador:\n",
    "        print('menos... tente mais uma vez')\n",
    "        numero = int(input(\"qual seu palpite? \"))\n",
    "        contador += 1 \n",
    "print(\"Parabéns, voce acertou com {} tentativas\".format(contador))        "
   ]
  },
  {
   "attachments": {},
   "cell_type": "markdown",
   "metadata": {},
   "source": [
    "EX 59 Criando um menu de opçoes"
   ]
  },
  {
   "cell_type": "code",
   "execution_count": 8,
   "metadata": {},
   "outputs": [
    {
     "name": "stdout",
     "output_type": "stream",
     "text": [
      "opcoes\n",
      " [1] SOMAR\n",
      " [2] MULTIPLICAR\n",
      " [3] MAIOR \n",
      " [4] NOVOS NUMEROS\n",
      " [5] SAIR DO PROGRAMA\n",
      "a multiplicacao entre 15 e 30 é 450\n",
      "a soma entre 15 e 30 é 45\n",
      "o maior numero é 30\n",
      "opção não existe, digite entre 1 e 5\n",
      "saiu do programa\n"
     ]
    }
   ],
   "source": [
    "from time import sleep \n",
    "\n",
    "n1 = int(input(\"digite um numero: \"))\n",
    "n2 = int(input(\"digite um numero: \"))\n",
    "print(\"opcoes\\n [1] SOMAR\\n [2] MULTIPLICAR\\n [3] MAIOR \\n [4] NOVOS NUMEROS\\n [5] SAIR DO PROGRAMA\")\n",
    "\n",
    "opcao = 0 #iniciar\n",
    "#enquanto opcao for diferente de 1 a 5\n",
    "\n",
    "while opcao != 5:\n",
    "    opcao = int(input(\"qual sua opcao? \"))\n",
    "    if opcao == 1:\n",
    "        print(\"a soma entre {} e {} é {}\".format(n1,n2,(n1+n2)))\n",
    "    elif opcao == 2:\n",
    "          print(\"a multiplicacao entre {} e {} é {}\".format(n1,n2,(n1*n2)))\n",
    "    elif opcao == 3:\n",
    "        if n1 > n2:\n",
    "            print(\"o maior numero é {}\".format(n1)) \n",
    "        else:\n",
    "            print(\"o maior numero é {}\".format(n2)) \n",
    "    elif opcao == 4:\n",
    "        n3 = int(input(\"digite um novo numero: \"))  \n",
    "        n4 = int(input(\"digite um novo numero: \")) \n",
    "    else:\n",
    "        print(\"opção não existe, digite entre 1 e 5\")    \n",
    "    sleep(2) #2 segundos de pausa    \n",
    "print(\"saiu do programa\")              \n"
   ]
  },
  {
   "attachments": {},
   "cell_type": "markdown",
   "metadata": {},
   "source": [
    "EX 60 Calculo do Fatorial"
   ]
  },
  {
   "cell_type": "code",
   "execution_count": 18,
   "metadata": {},
   "outputs": [
    {
     "name": "stdout",
     "output_type": "stream",
     "text": [
      "o fatorial de 6 é 720\n"
     ]
    }
   ],
   "source": [
    "n = int(input(\"digite um numero para calcular a fatorial: \"))\n",
    "produto = 1 #multiplicacao\n",
    "cont = 1 #contar resultado\n",
    "\n",
    "while cont <= n:\n",
    "    produto *= cont\n",
    "    cont += 1\n",
    "print(\"o fatorial de {} é {}\".format(n,produto))   \n",
    "\n"
   ]
  },
  {
   "cell_type": "code",
   "execution_count": 20,
   "metadata": {},
   "outputs": [
    {
     "name": "stdout",
     "output_type": "stream",
     "text": [
      "o fatorial de 6 é 720\n"
     ]
    }
   ],
   "source": [
    "#ex com for\n",
    "\n",
    "n = int(input(\"Fatorial de: \") )\n",
    "\n",
    "produto=1\n",
    "for n in range(1,n+1):\n",
    "    produto *= n\n",
    "print(\"o fatorial de {} é {}\".format(n,produto))   "
   ]
  },
  {
   "attachments": {},
   "cell_type": "markdown",
   "metadata": {},
   "source": [
    "EX 61 GERADOR PA 2.0"
   ]
  },
  {
   "cell_type": "code",
   "execution_count": 30,
   "metadata": {},
   "outputs": [
    {
     "name": "stdout",
     "output_type": "stream",
     "text": [
      "8 -> 12 -> 16 -> 20 -> 24 -> 28 -> 32 -> 36 -> 40 -> 44 -> fim da pa\n"
     ]
    }
   ],
   "source": [
    "p_termo = int(input(\"digite o primeiro termo: \"))\n",
    "razao = int(input(\"digite a razao: \"))\n",
    "termox = p_termo #primeiro pra poder iniciar a pa\n",
    "cont = 1 #incia a contagem 1 a 10\n",
    "\n",
    "while cont <= 10:\n",
    "    print(termox, end =\" -> \")\n",
    "    termox += razao #multiplica o primeiro termo da pa pela razao (termox = termox * razao)\n",
    "    cont += 1 #acrescenta a soma ate 10º termo\n",
    "print(\"fim da pa\")\n",
    "\n"
   ]
  },
  {
   "attachments": {},
   "cell_type": "markdown",
   "metadata": {},
   "source": [
    "EX 64 Tratando varios valores"
   ]
  },
  {
   "cell_type": "code",
   "execution_count": 18,
   "metadata": {},
   "outputs": [
    {
     "name": "stdout",
     "output_type": "stream",
     "text": [
      "você digitou 3 numeros e a soma entre eles é 6\n"
     ]
    }
   ],
   "source": [
    "num = int(input(\"digite um numero [999 para o programa]: \"))\n",
    "cont = 0\n",
    "soma = 0\n",
    "\n",
    "while num != 999:\n",
    "    if num != 999:\n",
    "        soma += num \n",
    "        cont += 1\n",
    "        num = int(input(\"digite um numero [999 para o programa]: \"))\n",
    "print(\"você digitou {} numeros e a soma entre eles é {}\".format(cont,soma))    \n"
   ]
  },
  {
   "attachments": {},
   "cell_type": "markdown",
   "metadata": {},
   "source": [
    "EX 65 Maior e menor valor"
   ]
  },
  {
   "cell_type": "code",
   "execution_count": 22,
   "metadata": {},
   "outputs": [
    {
     "name": "stdout",
     "output_type": "stream",
     "text": [
      "voce digitou 4 numeros e a media foi de 4.75\n",
      " o maior valor digitado foi 9 e o menor 2\n"
     ]
    }
   ],
   "source": [
    "num = int(input(\"digite um numero: \"))\n",
    "decisao = input(\"quer continuar? [S/N]\").upper()\n",
    "cont = 1\n",
    "soma = 0\n",
    "lista_num = []\n",
    "\n",
    "\n",
    "while decisao != 'N':\n",
    "    num= int(input(\"digite um numero: \"))\n",
    "    decisao = input(\"quer continuar? [S/N]\").upper()\n",
    "    soma += num\n",
    "    cont += 1\n",
    "    lista_num.append(num)\n",
    "print(\"voce digitou {} numeros e a media foi de {}\\n o maior valor digitado foi {} e o menor {}\".format(cont,(soma/cont),max(lista_num),min(lista_num)))    \n",
    "\n"
   ]
  },
  {
   "attachments": {},
   "cell_type": "markdown",
   "metadata": {},
   "source": []
  }
 ],
 "metadata": {
  "kernelspec": {
   "display_name": "Python 3",
   "language": "python",
   "name": "python3"
  },
  "language_info": {
   "codemirror_mode": {
    "name": "ipython",
    "version": 3
   },
   "file_extension": ".py",
   "mimetype": "text/x-python",
   "name": "python",
   "nbconvert_exporter": "python",
   "pygments_lexer": "ipython3",
   "version": "3.10.4"
  },
  "orig_nbformat": 4
 },
 "nbformat": 4,
 "nbformat_minor": 2
}
