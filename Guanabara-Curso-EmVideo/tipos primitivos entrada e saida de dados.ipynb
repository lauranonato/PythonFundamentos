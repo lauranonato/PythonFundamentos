{
 "cells": [
  {
   "cell_type": "code",
   "execution_count": 1,
   "metadata": {},
   "outputs": [
    {
     "name": "stdout",
     "output_type": "stream",
     "text": [
      "olá, mundo!\n"
     ]
    }
   ],
   "source": [
    "print(\"olá, mundo!\")"
   ]
  },
  {
   "attachments": {},
   "cell_type": "markdown",
   "metadata": {},
   "source": [
    "ex002"
   ]
  },
  {
   "cell_type": "code",
   "execution_count": 7,
   "metadata": {},
   "outputs": [
    {
     "name": "stdout",
     "output_type": "stream",
     "text": [
      "é um prazer te conhecer, Laura\n"
     ]
    }
   ],
   "source": [
    "teste_nome = input(\"digite seu nome: \")\n",
    "print(\"é um prazer te conhecer, {}\".format(teste_nome))"
   ]
  },
  {
   "attachments": {},
   "cell_type": "markdown",
   "metadata": {},
   "source": [
    "ex003"
   ]
  },
  {
   "cell_type": "code",
   "execution_count": 16,
   "metadata": {},
   "outputs": [
    {
     "name": "stdout",
     "output_type": "stream",
     "text": [
      "a soma entre 5 e 9 é igual a 14!\n"
     ]
    }
   ],
   "source": [
    "valor1 = int(input(\"digite um valor: \"))\n",
    "valor2 = int(input(\"digite outro valor: \"))\n",
    "soma = valor1 + valor2\n",
    "#print(\"a soma entre {}\".format(valor1), \"e {}\".format(valor2), \"é igual a {}!\".format(soma),)\n",
    "print(\"a soma entre {} e {} é igual a {}!\".format(valor1,valor2,soma))"
   ]
  },
  {
   "attachments": {},
   "cell_type": "markdown",
   "metadata": {},
   "source": [
    "ex004: trabalha métodos\n",
    "todo objeto string tem metodo"
   ]
  },
  {
   "cell_type": "code",
   "execution_count": 7,
   "metadata": {},
   "outputs": [
    {
     "name": "stdout",
     "output_type": "stream",
     "text": [
      "o tipo primitivo desse valor é  <class 'str'>\n",
      "só tem espaços? False\n",
      "é um número? False\n",
      "é alfabetico? True\n",
      "é alfanumerico? True\n",
      "está em maiusculas? False\n",
      "está em minusculas? True\n",
      "está capitalizada? False\n"
     ]
    }
   ],
   "source": [
    "x = input(\"Digite algo: \")\n",
    "print(\"o tipo primitivo desse valor é \",type(x))\n",
    "print(\"só tem espaços?\", x.isspace())\n",
    "print(\"é um número?\", x.isnumeric())\n",
    "print(\"é alfabetico?\", x.isalpha())\n",
    "print(\"é alfanumerico?\", x.isalnum())\n",
    "print(\"está em maiusculas?\", x.isupper())\n",
    "print(\"está em minusculas?\", x.islower())\n",
    "print(\"está capitalizada?\", x.istitle())"
   ]
  },
  {
   "attachments": {},
   "cell_type": "markdown",
   "metadata": {},
   "source": [
    "ex005: antecessor e sucessor de um numero\n",
    "operadores aritmeticos"
   ]
  },
  {
   "cell_type": "code",
   "execution_count": 3,
   "metadata": {},
   "outputs": [
    {
     "name": "stdout",
     "output_type": "stream",
     "text": [
      "analisando o valor 80, o sucessor desse numero é 81 e o antecessor 79\n",
      "analisando o valor 80, o sucessor desse numero é 81 e o antecessor 79\n"
     ]
    }
   ],
   "source": [
    "x = int(input(\"digite um numero: \"))\n",
    "antecessor = x - 1\n",
    "sucessor = x + 1\n",
    "print(\"analisando o valor {}, o sucessor desse numero é {} e o antecessor {}\".format(x,sucessor,antecessor))\n",
    "#com menos variaveis, pq quanto menos variaveis eu usar menos memoria\n",
    "#print(\"analisando o valor {}, o sucessor desse numero é {} e o antecessor {}\".format(x,(x+1),(x-1)))\n"
   ]
  },
  {
   "attachments": {},
   "cell_type": "markdown",
   "metadata": {},
   "source": [
    "#ex006: trazer o dobro, o triplo e a raiz quadrada de um numero\n",
    "\n",
    "ainda trabalhando operadores aritmeticos"
   ]
  },
  {
   "cell_type": "code",
   "execution_count": 6,
   "metadata": {},
   "outputs": [
    {
     "name": "stdout",
     "output_type": "stream",
     "text": [
      "o dobro de 25 vale 50.\n",
      " O triplo de 25 vale 75.\n",
      " A raiz quadrada de 25 vale 5.0\n"
     ]
    }
   ],
   "source": [
    "n = int(input(\"digite um numero: \"))\n",
    "dobro = n * 2\n",
    "triplo = n * 3 \n",
    "rquadrada = n ** 0.5\n",
    "print(\"o dobro de {} vale {}.\\n O triplo de {} vale {}.\\n A raiz quadrada de {} vale {}\".format(n,dobro,n,triplo,n,rquadrada))"
   ]
  },
  {
   "attachments": {},
   "cell_type": "markdown",
   "metadata": {},
   "source": [
    "ex007: media "
   ]
  },
  {
   "cell_type": "code",
   "execution_count": 11,
   "metadata": {},
   "outputs": [
    {
     "name": "stdout",
     "output_type": "stream",
     "text": [
      "a média entre 4.0 e 8.0 é igual a 6.0\n"
     ]
    }
   ],
   "source": [
    "n1 = float(input(\"primeira nota do aluno: \"))\n",
    "n2 = float(input(\"segunda nota do aluno: \"))\n",
    "media = (n1 + n2)/2\n",
    "print(\"a média entre {:.1f} e {:.1f} é igual a {:.1f}\".format(n1,n2,media))"
   ]
  },
  {
   "attachments": {},
   "cell_type": "markdown",
   "metadata": {},
   "source": [
    "ex008: ler um valor em metros e exibir conversao em centimetros e milimetros"
   ]
  },
  {
   "cell_type": "code",
   "execution_count": 2,
   "metadata": {},
   "outputs": [
    {
     "ename": "IndexError",
     "evalue": "Replacement index 5 out of range for positional args tuple",
     "output_type": "error",
     "traceback": [
      "\u001b[1;31m---------------------------------------------------------------------------\u001b[0m",
      "\u001b[1;31mIndexError\u001b[0m                                Traceback (most recent call last)",
      "\u001b[1;32mc:\\Users\\laura.nonato\\Downloads\\pessoal\\Python\\exfacil.ipynb Cell 15\u001b[0m in \u001b[0;36m<cell line: 7>\u001b[1;34m()\u001b[0m\n\u001b[0;32m      <a href='vscode-notebook-cell:/c%3A/Users/laura.nonato/Downloads/pessoal/Python/exfacil.ipynb#X20sZmlsZQ%3D%3D?line=4'>5</a>\u001b[0m hm \u001b[39m=\u001b[39m n1 \u001b[39m*\u001b[39m \u001b[39m0.0100\u001b[39m\n\u001b[0;32m      <a href='vscode-notebook-cell:/c%3A/Users/laura.nonato/Downloads/pessoal/Python/exfacil.ipynb#X20sZmlsZQ%3D%3D?line=5'>6</a>\u001b[0m dm \u001b[39m=\u001b[39m n1 \u001b[39m*\u001b[39m \u001b[39m100000\u001b[39m\n\u001b[1;32m----> <a href='vscode-notebook-cell:/c%3A/Users/laura.nonato/Downloads/pessoal/Python/exfacil.ipynb#X20sZmlsZQ%3D%3D?line=6'>7</a>\u001b[0m \u001b[39mprint\u001b[39m (\u001b[39m\"\u001b[39;49m\u001b[39ma medida de \u001b[39;49m\u001b[39m{}\u001b[39;49;00m\u001b[39mm corresponde a \u001b[39;49m\u001b[39m\\n\u001b[39;49;00m\u001b[39m{}\u001b[39;49;00m\u001b[39mkm\u001b[39;49m\u001b[39m\\n\u001b[39;49;00m\u001b[39m{}\u001b[39;49;00m\u001b[39mhm\u001b[39;49m\u001b[39m\\n\u001b[39;49;00m\u001b[39m{}\u001b[39;49;00m\u001b[39mdm\u001b[39;49m\u001b[39m\\n\u001b[39;49;00m\u001b[39m{}\u001b[39;49;00m\u001b[39mcm\u001b[39;49m\u001b[39m\\n\u001b[39;49;00m\u001b[39m{}\u001b[39;49;00m\u001b[39mmm\u001b[39;49m\u001b[39m\"\u001b[39;49m\u001b[39m.\u001b[39;49mformat(n1,km,dm,cent,mlm))\n",
      "\u001b[1;31mIndexError\u001b[0m: Replacement index 5 out of range for positional args tuple"
     ]
    }
   ],
   "source": [
    "n1 = int(input(\"uma distancia em metros: \"))\n",
    "cent = n1 * 100\n",
    "mlm = n1 * 1000\n",
    "km = n1 * 0.0010\n",
    "hm = n1 * 0.0100\n",
    "dm = n1 * 100000\n",
    "print (\"a medida de {}m corresponde a \\n{}km\\n{}hm\\n{}dm\\n{}cm\\n{}mm\".format(n1,km,dm,cent,mlm))\n"
   ]
  },
  {
   "attachments": {},
   "cell_type": "markdown",
   "metadata": {},
   "source": [
    "ex 009: tabuada"
   ]
  },
  {
   "cell_type": "code",
   "execution_count": 19,
   "metadata": {},
   "outputs": [
    {
     "name": "stdout",
     "output_type": "stream",
     "text": [
      "------------\n",
      "6 x 0 = 6\n",
      "6 x 1 = 12\n",
      "6 x 2 = 18\n",
      "6 x 3 = 24\n",
      "6 x 4 = 30\n",
      "6 x 5 = 36\n",
      "6 x 6 = 42\n",
      "6 x 7 = 48\n",
      "6 x 8 = 54\n",
      "6 x 9 = 60\n"
     ]
    }
   ],
   "source": [
    "n1 = int(input(\"digite um numero inteiro para ver a sua tabuada: \"))\n",
    "i = 1 \n",
    "soma = 0\n",
    "print(\"-\"*12) #operador de multiplicação para replicar string\n",
    "while i <= 10:\n",
    "    exp = n1 * i\n",
    "    print(\"{} x {} = {}\".format(n1,soma,exp))\n",
    "    i += 1\n",
    "    soma = soma + 1\n"
   ]
  },
  {
   "attachments": {},
   "cell_type": "markdown",
   "metadata": {},
   "source": [
    "ex10 conversor de moedas"
   ]
  },
  {
   "cell_type": "code",
   "execution_count": null,
   "metadata": {},
   "outputs": [
    {
     "name": "stdout",
     "output_type": "stream",
     "text": [
      "Com 40.0 R$ você pode comprar US$7.69\n"
     ]
    }
   ],
   "source": [
    "n = float(input(\"quanto dinheiro você tem na carteira? R$ \"))\n",
    "#dolar = n * 0.19\n",
    "#poderia ser n / 5,20 (valor do dolar em real)\n",
    "dolar = n / 5.20\n",
    "print(\"Com {} R$ você pode comprar US${:.2f}\".format(n,dolar))"
   ]
  },
  {
   "attachments": {},
   "cell_type": "markdown",
   "metadata": {},
   "source": [
    "ex 11 largura da parede x litros de tintas necessarios\n",
    "\n",
    "para cada 2m² = 1 l de tinta"
   ]
  },
  {
   "cell_type": "code",
   "execution_count": 4,
   "metadata": {},
   "outputs": [
    {
     "name": "stdout",
     "output_type": "stream",
     "text": [
      "para pintar a parede de 25.0m², você precisará de 12.5L de tinta\n"
     ]
    }
   ],
   "source": [
    "largura = float(input(\"digite a largura dessa parede: \"))\n",
    "altura = float(input(\"digite a altura da parede: \"))\n",
    "area = altura * largura\n",
    "tinta = area / 2\n",
    "print(\"para pintar a parede de {}m², você precisará de {}L de tinta\".format(area,tinta))"
   ]
  },
  {
   "attachments": {},
   "cell_type": "markdown",
   "metadata": {},
   "source": [
    "ex 12 aplicar desconto de 5% em um produto"
   ]
  },
  {
   "cell_type": "code",
   "execution_count": 7,
   "metadata": {},
   "outputs": [
    {
     "name": "stdout",
     "output_type": "stream",
     "text": [
      "o produto que custava R$123.95, na promoção com desconto de 5% sai por 117.75\n"
     ]
    }
   ],
   "source": [
    "p1 = float(input(\"Qual é o preço do produto? \"))\n",
    "desconto = 0.05\n",
    "v1 = p1 * 0.05\n",
    "valor_c_desconto = p1 - v1 \n",
    "print(\"o produto que custava R${}, na promoção com desconto de 5% sai por {:.2f}\".format(p1,valor_c_desconto))"
   ]
  },
  {
   "attachments": {},
   "cell_type": "markdown",
   "metadata": {},
   "source": [
    "ex 13 reajuste salarial"
   ]
  },
  {
   "cell_type": "code",
   "execution_count": 9,
   "metadata": {},
   "outputs": [
    {
     "name": "stdout",
     "output_type": "stream",
     "text": [
      "o funcionario que ganhava R$4319.43, com 15.00% de aumento, passará a receber R$4967.34\n"
     ]
    }
   ],
   "source": [
    "salario = float(input(\"qual o salário do funcionário? R$ \"))\n",
    "pc_aumento = float(input(\"qual vai ser o % de reajuste? \"))\n",
    "novo_salario = salario + (salario * (aumento / 100))\n",
    "print(\"o funcionario que ganhava R${:.2f}, com {:.2f}% de aumento, passará a receber R${:.2f}\".format(salario,pc_aumento,novo_salario))"
   ]
  },
  {
   "attachments": {},
   "cell_type": "markdown",
   "metadata": {},
   "source": [
    "ex 13 conversor de temperatura"
   ]
  },
  {
   "cell_type": "code",
   "execution_count": 4,
   "metadata": {},
   "outputs": [
    {
     "name": "stdout",
     "output_type": "stream",
     "text": [
      "a temperatura de 28.0 em °C corresponde a 82.4°F\n"
     ]
    }
   ],
   "source": [
    "temp = float(input(\"indique uma temperatura em °C: \"))\n",
    "conversor_fht = (temp * 1.8) + 32\n",
    "print(\"a temperatura de {:.1f} em °C corresponde a {:.1f}°F\".format(temp,conversor_fht))"
   ]
  },
  {
   "attachments": {},
   "cell_type": "markdown",
   "metadata": {},
   "source": [
    "ex 15 aluguel de carros"
   ]
  },
  {
   "cell_type": "code",
   "execution_count": 5,
   "metadata": {},
   "outputs": [
    {
     "name": "stdout",
     "output_type": "stream",
     "text": [
      "O valor total é de R$588.00\n"
     ]
    }
   ],
   "source": [
    "dias_aluguel = int(input(\"alugou o carro por quantos dias? \"))\n",
    "qt_km = int(input(\"andou quantos km nesses dias? \"))\n",
    "preco_diaria = dias_aluguel * 60\n",
    "preco_km = qt_km * 0.15\n",
    "preco_final = preco_diaria + preco_km \n",
    "#versao enxugada: (dias_aluguel * 60) + (km * 0.15)\n",
    "print(\"O valor total é de R${:.2f}\".format(preco_final))"
   ]
  }
 ],
 "metadata": {
  "kernelspec": {
   "display_name": "Python 3",
   "language": "python",
   "name": "python3"
  },
  "language_info": {
   "codemirror_mode": {
    "name": "ipython",
    "version": 3
   },
   "file_extension": ".py",
   "mimetype": "text/x-python",
   "name": "python",
   "nbconvert_exporter": "python",
   "pygments_lexer": "ipython3",
   "version": "3.10.4"
  },
  "orig_nbformat": 4,
  "vscode": {
   "interpreter": {
    "hash": "35ecf425635f1192140982ab509c475930668a49bd028077472428db337fa71e"
   }
  }
 },
 "nbformat": 4,
 "nbformat_minor": 2
}
