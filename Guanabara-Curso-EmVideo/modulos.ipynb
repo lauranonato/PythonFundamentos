{
 "cells": [
  {
   "attachments": {},
   "cell_type": "markdown",
   "metadata": {},
   "source": [
    "Módulos em Python"
   ]
  },
  {
   "attachments": {},
   "cell_type": "markdown",
   "metadata": {},
   "source": [
    "ex 16: quebrando um numero"
   ]
  },
  {
   "cell_type": "code",
   "execution_count": 4,
   "metadata": {},
   "outputs": [
    {
     "name": "stdout",
     "output_type": "stream",
     "text": [
      "6\n"
     ]
    }
   ],
   "source": [
    "import math\n",
    "x = 6.127\n",
    "teste = math.trunc(x)\n",
    "print(teste)"
   ]
  },
  {
   "cell_type": "code",
   "execution_count": 8,
   "metadata": {},
   "outputs": [
    {
     "name": "stdout",
     "output_type": "stream",
     "text": [
      "o numero 6.1270 tem a parte inteira 6\n",
      "o numero 6.1270 tem a parte inteira 6\n"
     ]
    }
   ],
   "source": [
    "n = float(input(\"digite um numero real: \"))\n",
    "print(\"o numero {:.4f} tem a parte inteira {}\".format(n,(math.trunc(n))))\n",
    "print(\"o numero {:.4f} tem a parte inteira {}\".format(n,int(n)))\n",
    "#a função int traz o inteiro, como o trunc"
   ]
  },
  {
   "cell_type": "code",
   "execution_count": 9,
   "metadata": {},
   "outputs": [
    {
     "name": "stdout",
     "output_type": "stream",
     "text": [
      "16.0\n"
     ]
    }
   ],
   "source": [
    "import math \n"
   ]
  },
  {
   "attachments": {},
   "cell_type": "markdown",
   "metadata": {},
   "source": [
    "ex 17: catetos e hipotenusa"
   ]
  },
  {
   "cell_type": "code",
   "execution_count": 11,
   "metadata": {},
   "outputs": [
    {
     "name": "stdout",
     "output_type": "stream",
     "text": [
      "a soma do quadrado do cateto oposto 2.0 e cateto adjascente 2.5 é a hipotenusa 3.20\n"
     ]
    }
   ],
   "source": [
    "import math\n",
    "co = float(input(\"digite o cumprimento do cateto oposto: \"))\n",
    "ca = float(input(\"digite o cumprimento do cateto adjascente: \"))\n",
    "#calculo direto na biblioteca: calculo = math.hypot(co,ca)\n",
    "calculo = ((math.pow(co,2)) + (math.pow(ca,2))) ** (1/2)\n",
    "print(\"a soma do quadrado do cateto oposto {} e cateto adjascente {} é a hipotenusa {:.2f}\".format(co,ca,calculo))"
   ]
  },
  {
   "attachments": {},
   "cell_type": "markdown",
   "metadata": {},
   "source": [
    "ex 19 sorteando um item na lista"
   ]
  },
  {
   "cell_type": "code",
   "execution_count": 5,
   "metadata": {},
   "outputs": [
    {
     "name": "stdout",
     "output_type": "stream",
     "text": [
      "o nome sorteado foi: vitor\n"
     ]
    }
   ],
   "source": [
    "from random import choice \n",
    "n1 = input(\"digite o 1º nome: \")\n",
    "n2 = input(\"digite o 2º nome: \")\n",
    "n3 = input(\"digite o 3º nome: \")\n",
    "n4 = input(\"digite o 4º nome: \")\n",
    "\n",
    "lista_nomes_sorteio = [n1,n2,n3,n4]\n",
    "sorteio = choice(lista_nomes_sorteio)\n",
    "print(\"o nome sorteado foi: {}\".format(sorteio))"
   ]
  },
  {
   "attachments": {},
   "cell_type": "markdown",
   "metadata": {},
   "source": [
    "ex 20 sorteando uma ordem na lista"
   ]
  },
  {
   "cell_type": "code",
   "execution_count": 8,
   "metadata": {},
   "outputs": [
    {
     "name": "stdout",
     "output_type": "stream",
     "text": [
      "['matheus', 'gabriel', 'nina', 'marcos']\n"
     ]
    }
   ],
   "source": [
    "from random import shuffle \n",
    "n1 = input(\"primeiro nome: \")\n",
    "n2 = input(\"segundo nome: \")\n",
    "n3 = input(\"terceiro nome: \")\n",
    "n4 = input(\"quarto nome: \")\n",
    "\n",
    "lista_de_nomes = [n1,n2,n3,n4]\n",
    "sorteio = shuffle(lista_de_nomes)\n",
    "print(lista_de_nomes)"
   ]
  }
 ],
 "metadata": {
  "kernelspec": {
   "display_name": "Python 3",
   "language": "python",
   "name": "python3"
  },
  "language_info": {
   "codemirror_mode": {
    "name": "ipython",
    "version": 3
   },
   "file_extension": ".py",
   "mimetype": "text/x-python",
   "name": "python",
   "nbconvert_exporter": "python",
   "pygments_lexer": "ipython3",
   "version": "3.10.4"
  },
  "orig_nbformat": 4,
  "vscode": {
   "interpreter": {
    "hash": "35ecf425635f1192140982ab509c475930668a49bd028077472428db337fa71e"
   }
  }
 },
 "nbformat": 4,
 "nbformat_minor": 2
}
