{
 "cells": [
  {
   "cell_type": "markdown",
   "metadata": {},
   "source": [
    "FOR"
   ]
  },
  {
   "attachments": {},
   "cell_type": "markdown",
   "metadata": {},
   "source": [
    "EX 46 Contagem regressiva, a cada 0.5 segundo"
   ]
  },
  {
   "cell_type": "code",
   "execution_count": 4,
   "metadata": {},
   "outputs": [
    {
     "name": "stdout",
     "output_type": "stream",
     "text": [
      "10\n",
      "9\n",
      "8\n",
      "7\n",
      "6\n",
      "5\n",
      "4\n",
      "3\n",
      "2\n",
      "1\n",
      "acabou!!\n"
     ]
    }
   ],
   "source": [
    "from time import sleep \n",
    "for i in range(10,0,-1):\n",
    "    print(i)\n",
    "    sleep(0.5)\n",
    "print('acabou!!')"
   ]
  },
  {
   "attachments": {},
   "cell_type": "markdown",
   "metadata": {},
   "source": [
    "EX 47 Contagem de numeros pares"
   ]
  },
  {
   "cell_type": "code",
   "execution_count": 3,
   "metadata": {},
   "outputs": [
    {
     "name": "stdout",
     "output_type": "stream",
     "text": [
      "0\n",
      "2\n",
      "4\n",
      "6\n",
      "8\n",
      "10\n",
      "12\n",
      "14\n",
      "16\n",
      "18\n",
      "20\n",
      "22\n",
      "24\n",
      "26\n",
      "28\n",
      "30\n",
      "32\n",
      "34\n",
      "36\n",
      "38\n",
      "40\n",
      "42\n",
      "44\n",
      "46\n",
      "48\n",
      "50\n"
     ]
    }
   ],
   "source": [
    "for i in range(0,51):\n",
    "    if (i%2) ==0:\n",
    "        print(i)\n",
    "\n",
    "#poderia ser feito da seguinte forma: for i in range(2,51,2) pulando de dois em dois        "
   ]
  },
  {
   "attachments": {},
   "cell_type": "markdown",
   "metadata": {},
   "source": [
    "EX 48 Soma ímpares múltiplos de três"
   ]
  },
  {
   "cell_type": "code",
   "execution_count": 23,
   "metadata": {},
   "outputs": [
    {
     "name": "stdout",
     "output_type": "stream",
     "text": [
      "a soma de todos os 83 valores é 20667\n"
     ]
    }
   ],
   "source": [
    "soma = 0 #acumulador sempre soma um valor x \n",
    "contador = 0 #contador sempre soma + 1\n",
    "for i in range(1,501):\n",
    "    if (i%2)!=0 and (i%3)==0:\n",
    "        contador +=1\n",
    "        soma+=i\n",
    "print(\"a soma de todos os {} valores é {}\".format(contador,soma))        \n"
   ]
  },
  {
   "attachments": {},
   "cell_type": "markdown",
   "metadata": {},
   "source": [
    "EX 49 Tabuada volume 2.0"
   ]
  },
  {
   "cell_type": "code",
   "execution_count": 37,
   "metadata": {},
   "outputs": [
    {
     "name": "stdout",
     "output_type": "stream",
     "text": [
      "7 x 1 = 7\n",
      "7 x 2 = 14\n",
      "7 x 3 = 21\n",
      "7 x 4 = 28\n",
      "7 x 5 = 35\n",
      "7 x 6 = 42\n",
      "7 x 7 = 49\n",
      "7 x 8 = 56\n",
      "7 x 9 = 63\n",
      "7 x 10 = 70\n"
     ]
    }
   ],
   "source": [
    "n = int(input(\"digite um numero para ver a tabuada: \"))\n",
    "for i in range(1,11):\n",
    "    print(\"{} x {} = {}\".format(n,i,n*i))"
   ]
  },
  {
   "attachments": {},
   "cell_type": "markdown",
   "metadata": {},
   "source": [
    "EX 50 Soma dos pares"
   ]
  },
  {
   "cell_type": "code",
   "execution_count": 10,
   "metadata": {},
   "outputs": [
    {
     "name": "stdout",
     "output_type": "stream",
     "text": [
      "soma de todos valores pares é 0\n"
     ]
    }
   ],
   "source": [
    "soma = 0\n",
    "for i in range(1,7):\n",
    "    numero = int(input(\"insira o {} valor: \".format(i)))\n",
    "    if (numero%2) == 0:\n",
    "        soma+=numero  \n",
    "print(\"soma de todos valores pares é {}\".format(soma))"
   ]
  },
  {
   "attachments": {},
   "cell_type": "markdown",
   "metadata": {},
   "source": [
    "EX 51 Progressao aritmetica"
   ]
  },
  {
   "cell_type": "code",
   "execution_count": 17,
   "metadata": {},
   "outputs": [
    {
     "name": "stdout",
     "output_type": "stream",
     "text": [
      "25 -> 30 -> 35 -> 40 -> 45 -> 50 -> 55 -> 60 -> 65 -> 70 -> "
     ]
    }
   ],
   "source": [
    "p_termo = int(input(\"digite o primeiro termo: \"))\n",
    "razao = int(input(\"digite a razao da PA: \"))\n",
    "decimo_termo = p_termo + (10-1) * razao\n",
    "\n",
    "for i in range(p_termo,decimo_termo + razao,razao): \n",
    "    print(i, end =\" -> \")\n"
   ]
  },
  {
   "attachments": {},
   "cell_type": "markdown",
   "metadata": {},
   "source": [
    "EX 52 numeros primos\n",
    "#divisivel somente 2 vezes "
   ]
  },
  {
   "cell_type": "code",
   "execution_count": 25,
   "metadata": {},
   "outputs": [
    {
     "name": "stdout",
     "output_type": "stream",
     "text": [
      "o numero 13 foi divisivel 2 vezes. Por isso ele é PRIMO\n"
     ]
    }
   ],
   "source": [
    "numero = int(input(\"digite um numero: \"))\n",
    "contador = 0\n",
    "\n",
    "for i in range(1,numero+1):\n",
    "    if numero % i == 0:\n",
    "        contador += 1\n",
    "if contador <= 2:    \n",
    "    print(\"o numero {} foi divisivel {} vezes. Por isso ele é PRIMO\".format(numero,contador))\n",
    "else: \n",
    "    print(\"o numero {} foi divisivel {} vezes. Por isso ele nao é PRIMO\".format(numero,contador))   "
   ]
  },
  {
   "attachments": {},
   "cell_type": "markdown",
   "metadata": {},
   "source": [
    "EX 53 Detector de palindromo"
   ]
  },
  {
   "cell_type": "code",
   "execution_count": 4,
   "metadata": {},
   "outputs": [
    {
     "name": "stdout",
     "output_type": "stream",
     "text": [
      "OBOLOAMAOLOBO\n",
      "a frase nao é um palindromo\n"
     ]
    }
   ],
   "source": [
    "frase = str(input(\"digite uma palavra: \")).replace(\" \", \"\").upper()\n",
    "print(frase)\n",
    "inverso = ' '\n",
    "junto = ''.join(frase)\n",
    "\n",
    "for i in range(len(frase)-1,-1,-1):\n",
    "    inverso += junto[i]\n",
    "if inverso == junto:\n",
    "    print('a frase é um palindromo')\n",
    "else:\n",
    "    print(\"a frase nao é um palindromo\")\n",
    "\n",
    "\n"
   ]
  },
  {
   "attachments": {},
   "cell_type": "markdown",
   "metadata": {},
   "source": [
    "EX 54 Grupo da maioridade"
   ]
  },
  {
   "cell_type": "code",
   "execution_count": 9,
   "metadata": {},
   "outputs": [
    {
     "name": "stdout",
     "output_type": "stream",
     "text": [
      "o grupo tem 3 pessoas maiores de idade e 4 menores de idade\n"
     ]
    }
   ],
   "source": [
    "import datetime\n",
    "today = datetime.date.today()\n",
    "year = today.year\n",
    "\n",
    "cont_maioridade = 0\n",
    "cont_menoridade = 0\n",
    "\n",
    "for i in range(0,7):\n",
    "    ano_nasc = int(input('qual seu ano de nascimento? '))\n",
    "    if year - ano_nasc >= 18:\n",
    "        cont_maioridade += 1\n",
    "    else: \n",
    "        cont_menoridade += 1\n",
    "print(\"o grupo tem {} pessoas maiores de idade e {} menores de idade\".format(cont_maioridade,cont_menoridade))       "
   ]
  },
  {
   "attachments": {},
   "cell_type": "markdown",
   "metadata": {},
   "source": [
    "EX 55 Maior e menor sequencia"
   ]
  },
  {
   "cell_type": "code",
   "execution_count": 13,
   "metadata": {},
   "outputs": [
    {
     "name": "stdout",
     "output_type": "stream",
     "text": [
      "no grupo de 5 pessoas, o menor peso foi 0 kg e o maior 90.2 kg\n"
     ]
    }
   ],
   "source": [
    "maior_peso = 0\n",
    "menor_peso = 0\n",
    "\n",
    "for i in range(0,5):\n",
    "    peso = float(input(\"insira seu peso: \"))\n",
    "    if peso == i:  #primeira ocorrencia no laco \n",
    "        maior_peso = peso\n",
    "        menor_peso = peso\n",
    "    else:\n",
    "        if peso > maior_peso:\n",
    "            maior_peso = peso \n",
    "        if peso < menor_peso:\n",
    "            menor_peso = peso    \n",
    "print(\"no grupo de 5 pessoas, o menor peso foi {} kg e o maior {} kg\".format(menor_peso,maior_peso))        "
   ]
  },
  {
   "attachments": {},
   "cell_type": "markdown",
   "metadata": {},
   "source": [
    "EX 56 Analisador completo"
   ]
  },
  {
   "cell_type": "code",
   "execution_count": 22,
   "metadata": {},
   "outputs": [
    {
     "name": "stdout",
     "output_type": "stream",
     "text": [
      "a media de idade grupo: 28.0\n",
      "0 mulheres do grupo tem menos de 20 anos\n",
      "o homem mais velho do grupo tem 35 anos e se chama lucas\n"
     ]
    }
   ],
   "source": [
    "soma_idades = 0 #acumulador\n",
    "cont_idades = 0 #contador\n",
    "hmais_velho = 0\n",
    "h_maioridade = 0\n",
    "nome_hmais_velho = ''\n",
    "cont_mulheres = 0\n",
    "\n",
    "for i in range(0,4):\n",
    "    nome = input(\"insira seu nome: \")\n",
    "    idade = int(input(\"insira sua idade: \"))\n",
    "    soma_idades += idade\n",
    "    cont_idades += 1\n",
    "    sexo = input(\"insira seu sexo [M/F]: \")\n",
    "    if sexo.upper() == 'F' and idade < 20:\n",
    "        cont_mulheres += 1\n",
    "    if i ==1 and sexo.upper() == 'M': #primeira ocorrencia no laco \n",
    "        h_maioridade = idade \n",
    "        nome_hmais_velho = nome \n",
    "    if sexo.upper() == 'M' and idade > h_maioridade:\n",
    "        h_maioridade = idade \n",
    "        nome_hmais_velho = nome \n",
    "         \n",
    "media_idades = soma_idades/cont_idades\n",
    "print(\"a media de idade grupo: {}\".format(media_idades))\n",
    "print(\"{} mulheres do grupo tem menos de 20 anos\".format(cont_mulheres))\n",
    "print(\"o homem mais velho do grupo tem {} anos e se chama {}\".format(h_maioridade,nome_hmais_velho))\n",
    "\n"
   ]
  }
 ],
 "metadata": {
  "kernelspec": {
   "display_name": "Python 3",
   "language": "python",
   "name": "python3"
  },
  "language_info": {
   "codemirror_mode": {
    "name": "ipython",
    "version": 3
   },
   "file_extension": ".py",
   "mimetype": "text/x-python",
   "name": "python",
   "nbconvert_exporter": "python",
   "pygments_lexer": "ipython3",
   "version": "3.10.4"
  },
  "orig_nbformat": 4
 },
 "nbformat": 4,
 "nbformat_minor": 2
}
