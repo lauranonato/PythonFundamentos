{
 "cells": [
  {
   "cell_type": "markdown",
   "metadata": {},
   "source": [
    "**MUNDO 3: VARIAVEIS COMPOSTAS**\n",
    "\n",
    "TUPLAS"
   ]
  },
  {
   "attachments": {},
   "cell_type": "markdown",
   "metadata": {},
   "source": [
    "EX 72 Numero por extenso"
   ]
  },
  {
   "cell_type": "code",
   "execution_count": 14,
   "metadata": {},
   "outputs": [
    {
     "name": "stdout",
     "output_type": "stream",
     "text": [
      "voce digitou o numero cinco\n",
      "voce digitou o numero tres\n",
      "voce digitou o numero seis\n",
      "Numero digitado está fora da lista. Digite um numero entre 0 e 20.\n"
     ]
    }
   ],
   "source": [
    "while True:\n",
    "    seq = ('zero','um','dois','tres','quatro','cinco','seis','sete','oito','nove','dez'\n",
    "           ,'onze','doze','treze','quatorze','quinze','dezeseis','dezesete','dezoito','dezenove','vinte')\n",
    "    num = int(input(\"digite um numero entre 0 e 20: \"))    \n",
    "    if 0 <= num <= 20:\n",
    "        print(f\"voce digitou o numero {seq[num]}\")\n",
    "    else:\n",
    "        print(\"Numero digitado está fora da lista. Digite um numero entre 0 e 20.\")\n",
    "        break\n"
   ]
  },
  {
   "attachments": {},
   "cell_type": "markdown",
   "metadata": {},
   "source": [
    "EX 73 Tuplas com Times de Futebol"
   ]
  },
  {
   "cell_type": "code",
   "execution_count": 27,
   "metadata": {},
   "outputs": [
    {
     "name": "stdout",
     "output_type": "stream",
     "text": [
      "20 times estão na serie A\n",
      "os 5 primeiros colocados são ('Palmeiras', 'Fluminense', 'Cruzeiro', 'Athletico-PR')\n",
      "estão na zona de rebaixamento os times ('Botafogo', 'Palmeiras', 'Fluminense', 'Cruzeiro')\n",
      "lista dos times em ordem alfabetica ['America-MG', 'Athletico-PR', 'Atlético-MG', 'Bahia', 'Botafogo', 'Bragantino', 'Corinthians', 'Coritiba', 'Cruzeiro', 'Cuiabá', 'Flamengo', 'Fluminense', 'Fortaleza', 'Goiás', 'Grêmio', 'Internacional', 'Palmeiras', 'Santos', 'São Paulo', 'Vasco']\n",
      "o São Paulo está na 9 posição\n"
     ]
    }
   ],
   "source": [
    "lista_completa = ('Botafogo','Palmeiras','Fluminense','Cruzeiro','Athletico-PR','Atlético-MG','Santos','Fortaleza','Flamengo','São Paulo',\n",
    "                'Grêmio','Internacional','Bragantino','Bahia','Goiás','Vasco','Corinthians','Cuiabá','Coritiba','America-MG')\n",
    "print(f\"{len(lista_completa)} times estão na serie A\")\n",
    "print(f\"os 5 primeiros colocados são {lista_completa[1:5]}\")\n",
    "print(f\"estão na zona de rebaixamento os times {lista_completa[:4]}\")\n",
    "print(f\"lista dos times em ordem alfabetica {sorted(lista_completa)}\")\n",
    "print(f\"o São Paulo está na {lista_completa.index('São Paulo')} posição\")"
   ]
  },
  {
   "attachments": {},
   "cell_type": "markdown",
   "metadata": {},
   "source": [
    "EX 74 Maior e menor valor em tuplas"
   ]
  },
  {
   "cell_type": "code",
   "execution_count": 15,
   "metadata": {},
   "outputs": [
    {
     "name": "stdout",
     "output_type": "stream",
     "text": [
      "o maior valor sorteado foi 98 e o menor valor 42\n"
     ]
    }
   ],
   "source": [
    "import random \n",
    "lista_aleatoria = random.sample(range(0,100), 4)\n",
    "tupla = tuple(lista_aleatoria)\n",
    "\n",
    "print(f\"o maior valor sorteado foi {max(tupla)} e o menor valor {min(tupla)}\")\n"
   ]
  },
  {
   "attachments": {},
   "cell_type": "markdown",
   "metadata": {},
   "source": [
    "EX 75 Analise de dados de uma tupla"
   ]
  },
  {
   "cell_type": "code",
   "execution_count": 47,
   "metadata": {},
   "outputs": [
    {
     "name": "stdout",
     "output_type": "stream",
     "text": [
      "voce digitou a sequencia de numeros: (3, 112, 46, 89, 112)\n",
      "o numero 112 aparece 2 vezes\n",
      "o numero 112 aparece na 2º posicao\n",
      "foram digitados os numeros pares: (112, 46, 112)\n"
     ]
    }
   ],
   "source": [
    "tupla = ()\n",
    "tupla_pares = ()\n",
    "for i in range(0,5):\n",
    "    num = int(input(\"digite um número: \"))\n",
    "    tupla = tupla + (num,)\n",
    "print(f\"voce digitou a sequencia de numeros: {tupla}\")\n",
    "for i in tupla:\n",
    "    qtd = tupla.count(i) \n",
    "    if qtd >= 2:\n",
    "        num_duplo = i \n",
    "print(f\"o numero {num_duplo} aparece 2 vezes\")  \n",
    "print(f\"o numero {tupla[1]} aparece na 2º posicao\")\n",
    "for i in tupla:\n",
    "    if i % 2 == 0:\n",
    "        tupla_pares = tupla_pares + (i,)\n",
    "print(f\"foram digitados os numeros pares: {tupla_pares}\")\n"
   ]
  },
  {
   "attachments": {},
   "cell_type": "markdown",
   "metadata": {},
   "source": [
    "EX 76 Listagem de preços com tupla"
   ]
  },
  {
   "cell_type": "code",
   "execution_count": 3,
   "metadata": {},
   "outputs": [
    {
     "name": "stdout",
     "output_type": "stream",
     "text": [
      "LISTA DE PREÇOS MERCADINHO\n",
      "Arroz.........................R$  20.75\n",
      "Feijao........................R$  15.30\n",
      "Sal...........................R$   7.90\n",
      "Macarrao......................R$   2.30\n",
      "Molho de tomate...............R$   1.20\n",
      "Massa de bolo.................R$   5.46\n",
      "Oleo..........................R$  12.00\n"
     ]
    }
   ],
   "source": [
    "lista = ('Arroz', 20.75, \n",
    "         'Feijao', 15.30,\n",
    "         'Sal', 7.90,\n",
    "         'Macarrao', 2.30,\n",
    "         'Molho de tomate', 1.20,\n",
    "         'Massa de bolo', 5.46,\n",
    "         'Oleo', 12.00)\n",
    "print(\"LISTA DE PREÇOS MERCADINHO\")\n",
    "for p in range(0,len(lista)):\n",
    "    if p % 2 == 0 :\n",
    "        print(f\"{lista[p]:.<30}\",end='')\n",
    "    else:\n",
    "        print(f\"R${lista[p]:>7.2f}\")"
   ]
  },
  {
   "attachments": {},
   "cell_type": "markdown",
   "metadata": {},
   "source": [
    "EX 77 Contando vogais em tupla"
   ]
  },
  {
   "cell_type": "code",
   "execution_count": 33,
   "metadata": {},
   "outputs": [
    {
     "name": "stdout",
     "output_type": "stream",
     "text": [
      "('aprender', ['a', 'e', 'e'])\n",
      "('programar', ['o', 'a', 'a'])\n",
      "('liguagem', ['i', 'u', 'a', 'e'])\n",
      "('python', ['o'])\n",
      "('curso', ['u', 'o'])\n",
      "('gratis', ['a', 'i'])\n",
      "('estudar', ['e', 'u', 'a'])\n",
      "('praticar', ['a', 'i', 'a'])\n",
      "('trabalhar', ['a', 'a', 'a'])\n",
      "('mercado', ['e', 'a', 'o'])\n",
      "('programacao', ['o', 'a', 'a', 'a', 'o'])\n",
      "('dados', ['a', 'o'])\n",
      "('futuro', ['u', 'u', 'o'])\n"
     ]
    }
   ],
   "source": [
    "palavras = ('aprender','programar','liguagem','python','curso','gratis','estudar','praticar','trabalhar','mercado','programacao','dados','futuro')\n",
    "vogais = ('a','á','e','é','i','í','o','ó','ú','u')\n",
    "\n",
    "for p in palavras: #para cada palavra da tupla\n",
    "    vogais_palavra = []\n",
    "    for i in p:\n",
    "        if i in vogais:\n",
    "            vogais_palavra.append(i)\n",
    "    tupla = (p,vogais_palavra)\n",
    "    print(f\"{tupla}\")"
   ]
  },
  {
   "attachments": {},
   "cell_type": "markdown",
   "metadata": {},
   "source": []
  }
 ],
 "metadata": {
  "kernelspec": {
   "display_name": "Python 3",
   "language": "python",
   "name": "python3"
  },
  "language_info": {
   "codemirror_mode": {
    "name": "ipython",
    "version": 3
   },
   "file_extension": ".py",
   "mimetype": "text/x-python",
   "name": "python",
   "nbconvert_exporter": "python",
   "pygments_lexer": "ipython3",
   "version": "3.10.4"
  },
  "orig_nbformat": 4
 },
 "nbformat": 4,
 "nbformat_minor": 2
}
