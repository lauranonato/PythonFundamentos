{
 "cells": [
  {
   "attachments": {},
   "cell_type": "markdown",
   "metadata": {},
   "source": [
    "**LISTAS PARTE 2**"
   ]
  },
  {
   "attachments": {},
   "cell_type": "markdown",
   "metadata": {},
   "source": [
    "ex 84 Lista composta e analise dos dados"
   ]
  },
  {
   "cell_type": "code",
   "execution_count": 4,
   "metadata": {},
   "outputs": [
    {
     "name": "stdout",
     "output_type": "stream",
     "text": [
      "Deseja continuar [S/N]?\n",
      "Deseja continuar [S/N]?\n",
      "Deseja continuar [S/N]?\n",
      "Ao todo, você digitou 5 pessoas.\n",
      "O nome com maior peso é: marta, com peso 82.\n",
      "O nome com menor peso é: ana, com peso 56.\n"
     ]
    }
   ],
   "source": [
    "galera = list()\n",
    "while True:\n",
    "    nome = input(\"nome: \")\n",
    "    peso = int(input(\"peso: \"))\n",
    "    galera.append((nome, peso))\n",
    "    print(\"Deseja continuar [S/N]?\")\n",
    "    resposta = input().upper()\n",
    "    if resposta != 'S':\n",
    "        break\n",
    "    else:\n",
    "        nome = input(\"nome: \")\n",
    "        peso = int(input(\"peso: \"))\n",
    "        galera.append((nome,peso))\n",
    "if galera:\n",
    "    maior_peso = galera[0]\n",
    "    menor_peso = galera[0]\n",
    "\n",
    "    for pessoa in galera:\n",
    "        if pessoa[1] > maior_peso[1]:\n",
    "            maior_peso = pessoa\n",
    "        if pessoa[1] < menor_peso[1]:\n",
    "            menor_peso = pessoa\n",
    "\n",
    "    print(f\"Ao todo, você digitou {len(galera)} pessoas.\")\n",
    "    print(f\"O nome com maior peso é: {maior_peso[0]}, com peso {maior_peso[1]}.\")\n",
    "    print(f\"O nome com menor peso é: {menor_peso[0]}, com peso {menor_peso[1]}.\")\n",
    "else:\n",
    "    print(\"Nenhum dado foi inserido.\")\n",
    "    \n"
   ]
  },
  {
   "attachments": {},
   "cell_type": "markdown",
   "metadata": {},
   "source": [
    "EX 85 Lista com pares e impares"
   ]
  },
  {
   "cell_type": "code",
   "execution_count": 18,
   "metadata": {},
   "outputs": [
    {
     "name": "stdout",
     "output_type": "stream",
     "text": [
      "[('1', '2'), ('3', '4'), ('5', '6'), ('7', '8')]\n",
      "pares: []\n",
      "impares: [('1', '2'), ('3', '4'), ('5', '6'), ('7', '8')]\n"
     ]
    }
   ],
   "source": [
    "numeros = []\n",
    "for i in range(1,8,2):\n",
    "    valor = input(f\"digite o {i} valor: \")\n",
    "    valor2 = input(f\"digite o {i+1} valor: \")\n",
    "    numeros.append((valor,valor2))\n",
    "\n",
    "print(numeros)\n",
    "par = []\n",
    "impar = []\n",
    "for i in numeros:\n",
    "    if int(i[0]) % 2 == 0:\n",
    "        par.append(i)\n",
    "    else:\n",
    "        impar.append(i)\n",
    "print(f\"pares: {par}\")\n",
    "print(f\"impares: {impar}\")\n",
    "\n"
   ]
  },
  {
   "attachments": {},
   "cell_type": "markdown",
   "metadata": {},
   "source": [
    "EX 86 Matriz em python"
   ]
  },
  {
   "cell_type": "code",
   "execution_count": 5,
   "metadata": {},
   "outputs": [
    {
     "name": "stdout",
     "output_type": "stream",
     "text": [
      "[[0, 0, 0], [0, 0, 0], [0, 0, 0]]\n",
      "[1][2][3]\n",
      "[4][5][6]\n",
      "[7][8][9]\n"
     ]
    }
   ],
   "source": [
    "matriz = [[0,0,0],[0,0,0],[0,0,0]]\n",
    "print(matriz)\n",
    "\n",
    "for l in range(0,3):\n",
    "    for c in range(0,3):\n",
    "        matriz[l][c] = int(input(f\"digite um valor na posica {l}, {c}: \"))\n",
    "for l in range(0,3):\n",
    "    for c in range(0,3):\n",
    "        print(f'[{matriz[l][c]}]',end='')\n",
    "    print()"
   ]
  },
  {
   "attachments": {},
   "cell_type": "markdown",
   "metadata": {},
   "source": [
    "EX 87 Mais sobre Matriz em Python: resumo"
   ]
  },
  {
   "cell_type": "code",
   "execution_count": 6,
   "metadata": {},
   "outputs": [
    {
     "name": "stdout",
     "output_type": "stream",
     "text": [
      "[  1  ][  2  ][  3  ][  4  ][  5  ][  6  ][  7  ][  8  ][  9  ]a soma dos valores pares é 20\n",
      "a soma dos valores na terceira coluna é 18\n",
      "o maior valor da segunda linha é 6\n"
     ]
    }
   ],
   "source": [
    "matriz = [[0,0,0],[0,0,0],[0,0,0]]\n",
    "soma_pares = 0 \n",
    "maior = 0 \n",
    "soma_coluna = 0\n",
    "\n",
    "for l in range(0,3):\n",
    "    for c in range(0,3):\n",
    "        matriz[l][c] = int(input(f\"digite um valor na posica {l}, {c}: \"))\n",
    "        print(f'[{matriz[l][c]:^5}]',end='')\n",
    "for linha in matriz: # percorre as linhas da matriz\n",
    "        for i in linha: # percorre os elementos da linha\n",
    "            if i %2 == 0:\n",
    "                 soma_pares += i \n",
    "for l in range(0,3):\n",
    "     soma_coluna += matriz[l][2]     \n",
    "for c in range(0,3):\n",
    "     if c == 0:\n",
    "            maior = matriz[1][c]\n",
    "     elif matriz[1][c] > maior:\n",
    "            maior = matriz[1][c]\n",
    "\n",
    "print(f\"a soma dos valores pares é {soma_pares}\")\n",
    "print(f\"a soma dos valores na terceira coluna é {soma_coluna}\")\n",
    "print(f\"o maior valor da segunda linha é {maior}\")\n"
   ]
  },
  {
   "attachments": {},
   "cell_type": "markdown",
   "metadata": {},
   "source": [
    "EX 88 JOGO DA MEGA SENA "
   ]
  },
  {
   "cell_type": "code",
   "execution_count": 11,
   "metadata": {},
   "outputs": [
    {
     "name": "stdout",
     "output_type": "stream",
     "text": [
      "jogo 0: [40, 3, 11, 35, 21, 37]\n",
      "jogo 1: [30, 41, 4, 10, 21, 22]\n",
      "jogo 2: [47, 57, 51, 49, 53, 40]\n"
     ]
    }
   ],
   "source": [
    "import random \n",
    "qtd = int(input(\"quantos jogos voce quer sortear? \"))\n",
    "\n",
    "for i in range(0,qtd):\n",
    "    lista = random.sample(range(1,60),6)\n",
    "    print(f'jogo {i}: {lista}')\n"
   ]
  }
 ],
 "metadata": {
  "kernelspec": {
   "display_name": "Python 3",
   "language": "python",
   "name": "python3"
  },
  "language_info": {
   "codemirror_mode": {
    "name": "ipython",
    "version": 3
   },
   "file_extension": ".py",
   "mimetype": "text/x-python",
   "name": "python",
   "nbconvert_exporter": "python",
   "pygments_lexer": "ipython3",
   "version": "3.10.4"
  },
  "orig_nbformat": 4
 },
 "nbformat": 4,
 "nbformat_minor": 2
}
