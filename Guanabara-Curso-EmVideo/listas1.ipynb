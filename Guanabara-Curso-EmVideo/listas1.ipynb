{
 "cells": [
  {
   "attachments": {},
   "cell_type": "markdown",
   "metadata": {},
   "source": [
    "**LISTAS**"
   ]
  },
  {
   "attachments": {},
   "cell_type": "markdown",
   "metadata": {},
   "source": [
    "EX 78 Maior e menor valor na lista"
   ]
  },
  {
   "cell_type": "code",
   "execution_count": 3,
   "metadata": {},
   "outputs": [
    {
     "name": "stdout",
     "output_type": "stream",
     "text": [
      "o maior valor foi 8 digitado na posicao 1\n",
      "o menor valor foi 1 digitado na posicao 0\n"
     ]
    }
   ],
   "source": [
    "lista = []\n",
    "for i in range (0,5):\n",
    "    num = int(input(f\"digite um numero para a posicao {i}: \")) \n",
    "    lista.append(num)\n",
    "    maior = max(lista)\n",
    "    menor = min(lista)\n",
    "print(f\"o maior valor foi {maior} digitado na posicao {lista.index(maior)}\")\n",
    "print(f\"o menor valor foi {menor} digitado na posicao {lista.index(menor)}\")\n",
    "   \n"
   ]
  },
  {
   "attachments": {},
   "cell_type": "markdown",
   "metadata": {},
   "source": [
    "EX 79 Valores unicos em uma Lista"
   ]
  },
  {
   "cell_type": "code",
   "execution_count": 7,
   "metadata": {},
   "outputs": [
    {
     "name": "stdout",
     "output_type": "stream",
     "text": [
      "valor adicionado com sucesso.\n",
      " Deseja continuar [S/N]?\n",
      "valor adicionado com sucesso.\n",
      " Deseja continuar [S/N]?\n",
      "valor adicionado com sucesso.\n",
      " Deseja continuar [S/N]?\n",
      "valor adicionado com sucesso.\n",
      " Deseja continuar [S/N]?\n",
      "valor adicionado com sucesso.\n",
      " Deseja continuar [S/N]?\n",
      "valor adicionado com sucesso.\n",
      " Deseja continuar [S/N]?\n",
      "valor adicionado com sucesso.\n",
      " Deseja continuar [S/N]?\n",
      "valor adicionado com sucesso.\n",
      " Deseja continuar [S/N]?\n",
      "valor adicionado com sucesso.\n",
      " Deseja continuar [S/N]?\n",
      "valor adicionado com sucesso.\n",
      " Deseja continuar [S/N]?\n",
      "------------------------------\n",
      "voce digitou os valores: {4, 5, 9, 23, 61}\n"
     ]
    }
   ],
   "source": [
    "lista = []\n",
    "while True:\n",
    "    num = int(input(\"digite um valor: \"))\n",
    "    print(\"valor adicionado com sucesso.\\n Deseja continuar [S/N]?\")\n",
    "    resposta = input().upper()\n",
    "    lista.append(num)\n",
    "    if resposta != 'S':\n",
    "        break \n",
    "print(\"-\"*30)\n",
    "print(f\"voce digitou os valores: {set(lista)}\")"
   ]
  },
  {
   "attachments": {},
   "cell_type": "markdown",
   "metadata": {},
   "source": [
    "EX 80 Lista ordenada sem repetições"
   ]
  },
  {
   "cell_type": "code",
   "execution_count": 9,
   "metadata": {},
   "outputs": [
    {
     "name": "stdout",
     "output_type": "stream",
     "text": [
      "valor adicionado com sucesso.\n",
      " Deseja continuar [S/N]?\n",
      "valor adicionado com sucesso.\n",
      " Deseja continuar [S/N]?\n",
      "valor adicionado com sucesso.\n",
      " Deseja continuar [S/N]?\n",
      "valor adicionado com sucesso.\n",
      " Deseja continuar [S/N]?\n",
      "valor adicionado com sucesso.\n",
      " Deseja continuar [S/N]?\n",
      "valor adicionado com sucesso.\n",
      " Deseja continuar [S/N]?\n",
      "valor adicionado com sucesso.\n",
      " Deseja continuar [S/N]?\n",
      "valor adicionado com sucesso.\n",
      " Deseja continuar [S/N]?\n",
      "------------------------------\n",
      "voce digitou os valores: [3, 5, 52, 61, 68, 75]\n"
     ]
    }
   ],
   "source": [
    "lista = []\n",
    "while True:\n",
    "    num = int(input(\"digite um valor: \"))\n",
    "    print(\"valor adicionado com sucesso.\\n Deseja continuar [S/N]?\")\n",
    "    resposta = input().upper()\n",
    "    lista.append(num)\n",
    "    if resposta != 'S':\n",
    "        break \n",
    "lista_unique = set(lista)\n",
    "lista_ord = sorted(lista_unique)\n",
    "print(\"-\"*30)\n",
    "print(f\"voce digitou os valores: {lista_ord}\")"
   ]
  },
  {
   "attachments": {},
   "cell_type": "markdown",
   "metadata": {},
   "source": [
    "EX 81 Extraindo dados de uma lista"
   ]
  },
  {
   "cell_type": "code",
   "execution_count": 14,
   "metadata": {},
   "outputs": [
    {
     "name": "stdout",
     "output_type": "stream",
     "text": [
      "valor adicionado com sucesso.\n",
      " Deseja continuar [S/N]?\n",
      "valor adicionado com sucesso.\n",
      " Deseja continuar [S/N]?\n",
      "valor adicionado com sucesso.\n",
      " Deseja continuar [S/N]?\n",
      "valor adicionado com sucesso.\n",
      " Deseja continuar [S/N]?\n",
      "valor adicionado com sucesso.\n",
      " Deseja continuar [S/N]?\n",
      "valor adicionado com sucesso.\n",
      " Deseja continuar [S/N]?\n",
      "-=-=-=-=-=-=-=-=-=-=-=-=-=-=-=-=-=-=-=-=-=-=-=-=-=-=-=-=-=-=\n",
      "voce digitou 6 elementos\n",
      "Os valores em ordem decrescente são [13, 12, 9, 7, 5, 4]\n",
      "5 faz parte da lista!\n"
     ]
    }
   ],
   "source": [
    "lista = []\n",
    "while True:\n",
    "    num = int(input(\"digite um valor: \"))\n",
    "    print(\"valor adicionado com sucesso.\\n Deseja continuar [S/N]?\")\n",
    "    resposta = input().upper()\n",
    "    lista.append(num)\n",
    "    if resposta != 'S':\n",
    "        break\n",
    "tamanho = len(lista)\n",
    "lista_ord = sorted(lista,reverse=True)\n",
    "print(\"-=\"*30)   \n",
    "print(f\"voce digitou {tamanho} elementos\\nOs valores em ordem decrescente são {lista_ord}\")\n",
    "for i in lista: \n",
    "    if(i == 5) : \n",
    "        print (\"5 faz parte da lista!\")"
   ]
  },
  {
   "attachments": {},
   "cell_type": "markdown",
   "metadata": {},
   "source": [
    "EX 82 Dividindo valores em várias listas"
   ]
  },
  {
   "cell_type": "code",
   "execution_count": 24,
   "metadata": {},
   "outputs": [
    {
     "name": "stdout",
     "output_type": "stream",
     "text": [
      "valor adicionado com sucesso.\n",
      " Deseja continuar [S/N]?\n",
      "valor adicionado com sucesso.\n",
      " Deseja continuar [S/N]?\n",
      "valor adicionado com sucesso.\n",
      " Deseja continuar [S/N]?\n",
      "valor adicionado com sucesso.\n",
      " Deseja continuar [S/N]?\n",
      "valor adicionado com sucesso.\n",
      " Deseja continuar [S/N]?\n",
      "valor adicionado com sucesso.\n",
      " Deseja continuar [S/N]?\n",
      "valor adicionado com sucesso.\n",
      " Deseja continuar [S/N]?\n",
      "valor adicionado com sucesso.\n",
      " Deseja continuar [S/N]?\n",
      "valor adicionado com sucesso.\n",
      " Deseja continuar [S/N]?\n",
      "a lista completa é [25, 21, 8, 7, 2, 6, 68, 35, 41]\n",
      "a lista de pares é [8, 2, 6, 68]\n",
      "a lista de impares é [25, 21, 7, 35, 41]\n"
     ]
    }
   ],
   "source": [
    "lista = []\n",
    "lista_par = []\n",
    "lista_impar = []\n",
    "while True:\n",
    "    num = int(input(\"digite um valor: \"))\n",
    "    print(\"valor adicionado com sucesso.\\n Deseja continuar [S/N]?\")\n",
    "    resposta = input().upper()\n",
    "    lista.append(num)\n",
    "    if resposta != 'S':\n",
    "        break\n",
    "print(f\"a lista completa é {lista}\")\n",
    "for i in lista:\n",
    "        if i % 2 == 0:\n",
    "            lista_par.append(i)\n",
    "        else:\n",
    "            lista_impar.append(i)\n",
    "print(f\"a lista de pares é {lista_par}\")\n",
    "print(f\"a lista de impares é {lista_impar}\")\n"
   ]
  }
 ],
 "metadata": {
  "kernelspec": {
   "display_name": "Python 3",
   "language": "python",
   "name": "python3"
  },
  "language_info": {
   "codemirror_mode": {
    "name": "ipython",
    "version": 3
   },
   "file_extension": ".py",
   "mimetype": "text/x-python",
   "name": "python",
   "nbconvert_exporter": "python",
   "pygments_lexer": "ipython3",
   "version": "3.10.4"
  },
  "orig_nbformat": 4
 },
 "nbformat": 4,
 "nbformat_minor": 2
}
