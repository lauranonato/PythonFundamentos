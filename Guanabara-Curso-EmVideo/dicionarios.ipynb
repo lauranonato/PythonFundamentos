{
 "cells": [
  {
   "attachments": {},
   "cell_type": "markdown",
   "metadata": {},
   "source": [
    "**DICIONARIOS**"
   ]
  },
  {
   "attachments": {},
   "cell_type": "markdown",
   "metadata": {},
   "source": [
    "EX 90 Dicionario em python"
   ]
  },
  {
   "cell_type": "code",
   "execution_count": 2,
   "metadata": {},
   "outputs": [
    {
     "name": "stdout",
     "output_type": "stream",
     "text": [
      "{'nome': 'maria', 'media': 8.5, 'situacao': 'Aprovado'}\n",
      "nome é igual a maria\n",
      "media é igual a 8.5\n",
      "situacao é igual a Aprovado\n"
     ]
    }
   ],
   "source": [
    "aluno = {}\n",
    "aluno['nome'] = input(\"nome: \")\n",
    "aluno['media'] = float(input(f'media de {aluno[\"nome\"]}: '))\n",
    "if aluno['media'] >= 7:\n",
    "    aluno['situacao'] = 'Aprovado'\n",
    "elif 5 <= aluno['media'] < 7:\n",
    "    aluno['situacao'] = 'recuperacao'\n",
    "else:\n",
    "    aluno['situacao']='reprovado'\n",
    "print(aluno)\n",
    "\n",
    "for k,v in aluno.items():\n",
    "    print(f'{k} é igual a {v}')"
   ]
  },
  {
   "attachments": {},
   "cell_type": "markdown",
   "metadata": {},
   "source": [
    "EX 91 Jogo de Dados em Python"
   ]
  },
  {
   "cell_type": "code",
   "execution_count": 61,
   "metadata": {},
   "outputs": [
    {
     "name": "stdout",
     "output_type": "stream",
     "text": [
      "o jogador1 tirou 5 no dado\n",
      "o jogador2 tirou 1 no dado\n",
      "o jogador3 tirou 9 no dado\n",
      "o jogador4 tirou 9 no dado\n",
      "\n",
      "RANKING DOS JOGADORES\n",
      "\n",
      "jogador2 com 1\n",
      "jogador1 com 5\n",
      "jogador3 com 9\n",
      "jogador4 com 9\n"
     ]
    }
   ],
   "source": [
    "import random \n",
    "jogo = {}\n",
    "\n",
    "for i in range(4):\n",
    "    jogo[f'jogador{i+1}'] = random.randint(1,10)\n",
    "\n",
    "for k,v in jogo.items():\n",
    "    print(f'o {k} tirou {v} no dado')\n",
    "print()\n",
    "print('RANKING DOS JOGADORES')\n",
    "print()\n",
    "for i in sorted(jogo,key=jogo.get):\n",
    "    print(f'{i} com {jogo[i]}') "
   ]
  },
  {
   "attachments": {},
   "cell_type": "markdown",
   "metadata": {},
   "source": [
    "EX 92: Cadastro Trabalhador"
   ]
  },
  {
   "cell_type": "code",
   "execution_count": 3,
   "metadata": {},
   "outputs": [
    {
     "name": "stdout",
     "output_type": "stream",
     "text": [
      "nome tem valor maria\n",
      "idade tem valor 26\n",
      "ctps tem valor 4532\n",
      "contratacao tem valor 2021\n",
      "salario tem valor 1200\n",
      "aposentadoria tem valor 2074\n"
     ]
    }
   ],
   "source": [
    "from datetime import date \n",
    "#variaveis \n",
    "ano_atual = date.today().year\n",
    "\n",
    "#cadastro\n",
    "cadastro = {} \n",
    "\n",
    "cadastro['nome'] = input(\"nome: \")\n",
    "ano_nasc = int(input(\"ano de nascimento: \"))\n",
    "idade = ano_atual- ano_nasc\n",
    "cadastro['idade'] = idade\n",
    "cadastro['ctps'] = input(\"carteira de trabalho (0 nao tem): \")\n",
    "cadastro['contratacao'] = int(input(\"ano contratacao: \"))\n",
    "cadastro['salario'] = input(\"salario: \")\n",
    "sexo = input('sexo: ').upper()\n",
    "if sexo == 'M':\n",
    "    aposentadoria = cadastro['contratacao'] + 48\n",
    "else:\n",
    "    aposentadoria = cadastro['contratacao'] + 53\n",
    "\n",
    "cadastro['aposentadoria'] = aposentadoria\n",
    "\n",
    "for k, v in cadastro.items():\n",
    "    print(f'{k} tem valor {v}')\n",
    "\n"
   ]
  },
  {
   "attachments": {},
   "cell_type": "markdown",
   "metadata": {},
   "source": [
    "EX 93: Cadastro Jogador(a) de Futebol"
   ]
  },
  {
   "cell_type": "code",
   "execution_count": 16,
   "metadata": {},
   "outputs": [
    {
     "name": "stdout",
     "output_type": "stream",
     "text": [
      "-=-=-=-=-=-=-=-=-=-=-=-=-=-=-=-=-=-=-=-=-=-=-=-=-=-=-=-=-=-=\n",
      "{'nome': 'Formiga', 'gols': [3, 0, 2, 1, 3], 'total': 9}\n",
      "-=-=-=-=-=-=-=-=-=-=-=-=-=-=-=-=-=-=-=-=-=-=-=-=-=-=-=-=-=-=\n",
      "o campo nome tem o valor Formiga\n",
      "o campo gols tem o valor [3, 0, 2, 1, 3]\n",
      "o campo total tem o valor 9\n",
      "-=-=-=-=-=-=-=-=-=-=-=-=-=-=-=-=-=-=-=-=-=-=-=-=-=-=-=-=-=-=\n",
      "A(o) jogadora(o) jogou 5 partidas\n",
      "=> Na partida 0, fez 3 gols.\n",
      "=> Na partida 1, fez 0 gols.\n",
      "=> Na partida 2, fez 2 gols.\n",
      "=> Na partida 3, fez 1 gols.\n",
      "=> Na partida 4, fez 3 gols.\n",
      "Foi um total de 9 gols.\n"
     ]
    }
   ],
   "source": [
    "lista_gols = []\n",
    "#dic_nome = dic_gols = dic_total = {}\n",
    "dic = {}\n",
    "\n",
    "nome = input(\"nome da(o) jogadora(o): \")\n",
    "dic['nome'] = nome \n",
    "\n",
    "qt_partidas = int(input(f\"quantas partidas {nome} jogou? \"))\n",
    "\n",
    "for i in range(0,qt_partidas):\n",
    "    qt_gols = int(input(f\"quantos gols na partida {i}? \"))\n",
    "    lista_gols.append(qt_gols)\n",
    "\n",
    "dic['gols'] = lista_gols\n",
    "dic['total'] = sum(lista_gols)\n",
    "\n",
    "print(\"-=\"*30)\n",
    "print(dic)\n",
    "\n",
    "print(\"-=\"*30)\n",
    "for k,v in dic.items():\n",
    "    print(f\"o campo {k} tem o valor {v}\")\n",
    "\n",
    "print(\"-=\"*30)\n",
    "print(f\"A(o) jogadora(o) jogou {qt_partidas} partidas\")\n",
    "for i in range(0,qt_partidas):\n",
    "    print(f\"=> Na partida {i}, fez {lista[i]} gols.\")\n",
    "print(f\"Foi um total de {dic['total']} gols.\")"
   ]
  },
  {
   "attachments": {},
   "cell_type": "markdown",
   "metadata": {},
   "source": [
    "EX 94 Unindo dicionarios e listas"
   ]
  },
  {
   "cell_type": "code",
   "execution_count": 44,
   "metadata": {},
   "outputs": [
    {
     "name": "stdout",
     "output_type": "stream",
     "text": [
      "-=-=-=-=-=-=-=-=-=-=-=-=-=-=-=-=-=-=-=-=-=-=-=-=-=-=-=-=-=-=\n",
      "A) Ao todo temos 6 pessoas cadastradas.\n",
      "B) a media de idade é de 25 anos\n",
      "C) As mulheres cadastradas foram ['mariana', 'joana']\n",
      "D) Pessoas que estão acima da media idade: \n",
      " \n",
      "nome = arca;genero = T;idade = 33;\n",
      " \n",
      "nome = mauricio;genero = M;idade = 35;\n",
      " \n",
      "nome = rodrigo;genero = M;idade = 31;\n"
     ]
    }
   ],
   "source": [
    "dic = {}\n",
    "pessoal = []\n",
    "\n",
    "while True:\n",
    "    dic.clear()\n",
    "    nome = input('nome: ')\n",
    "    dic['nome'] = nome \n",
    "    while True:\n",
    "        genero = input('qual genero se identifica? [M/F/NB/T]: ').upper()\n",
    "        dic['genero'] = genero \n",
    "        if sexo in 'MFNBT':\n",
    "            break\n",
    "        print(\"erro! Responda apenas S ou N\")\n",
    "    dic['idade'] = int(input('idade: '))\n",
    "    pessoal.append(dic.copy()) #grava em uma lista o dicionario formado ate entao\n",
    "    while True:\n",
    "        decisao = input(\"quer continuar? [S/N]\").upper()\n",
    "        if decisao in 'SN':\n",
    "            break\n",
    "        print(\"erro! Responda apenas S ou N\")\n",
    "    if decisao == 'N':\n",
    "        break\n",
    "\n",
    "#media idade\n",
    "lista_idades = []\n",
    "for i in pessoal:\n",
    "    lista_idades.append(i['idade'])\n",
    "    media = int(sum(lista_idades)/len(lista_idades))\n",
    "\n",
    "#mulheres cadastradas:\n",
    "lista_feminino = []\n",
    "for i in pessoal:\n",
    "    if i['genero'] == 'F':\n",
    "        lista_feminino.append(i['nome'])\n",
    "\n",
    "#acima da media idade\n",
    "acima_media = []\n",
    "for i in pessoal:\n",
    "    if i['idade'] > media:\n",
    "        acima_media.append(i['nome'])\n",
    "\n",
    "\n",
    "print(\"-=\"*30)\n",
    "print(f\"A) Ao todo temos {len(pessoal)} pessoas cadastradas.\")\n",
    "print(f\"B) a media de idade é de {media} anos\")\n",
    "print(f\"C) As mulheres cadastradas foram {lista_feminino}\")\n",
    "print(\"D) Pessoas que estão acima da media idade: \")\n",
    "for p in pessoal:\n",
    "    if p['nome'] in acima_media:\n",
    "        print(' ')\n",
    "        for k, v in p.items():\n",
    "            print(f\"{k} = {v};\",end=\"\")\n",
    "        print()"
   ]
  }
 ],
 "metadata": {
  "kernelspec": {
   "display_name": "Python 3",
   "language": "python",
   "name": "python3"
  },
  "language_info": {
   "codemirror_mode": {
    "name": "ipython",
    "version": 3
   },
   "file_extension": ".py",
   "mimetype": "text/x-python",
   "name": "python",
   "nbconvert_exporter": "python",
   "pygments_lexer": "ipython3",
   "version": "3.10.4"
  },
  "orig_nbformat": 4
 },
 "nbformat": 4,
 "nbformat_minor": 2
}
