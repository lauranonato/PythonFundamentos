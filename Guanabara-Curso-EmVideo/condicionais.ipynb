{
 "cells": [
  {
   "attachments": {},
   "cell_type": "markdown",
   "metadata": {},
   "source": [
    "CONDIÇÕES"
   ]
  },
  {
   "attachments": {},
   "cell_type": "markdown",
   "metadata": {},
   "source": [
    "EX 28 Jogo da Adivinhação v.1.0"
   ]
  },
  {
   "cell_type": "code",
   "execution_count": 11,
   "metadata": {},
   "outputs": [
    {
     "name": "stdout",
     "output_type": "stream",
     "text": [
      "vou pensar em um numero entre 0 e 5. Tente adivinhar...\n",
      "hm, pensei em outro numero! tente novamente\n"
     ]
    }
   ],
   "source": [
    "print(\"vou pensar em um numero entre 0 e 5. Tente adivinhar...\")\n",
    "advinha = int(input(\"em que numero eu pensei? \"))\n",
    "from random import randint \n",
    "computador = randint(0,5)\n",
    "if advinha == computador:\n",
    "    print(\"parabéns! voce acertou o numero\")\n",
    "else:\n",
    "    print(\"hm, pensei em outro numero! tente novamente\")"
   ]
  },
  {
   "attachments": {},
   "cell_type": "markdown",
   "metadata": {},
   "source": [
    "ex 29 radar eletronico"
   ]
  },
  {
   "cell_type": "code",
   "execution_count": 4,
   "metadata": {},
   "outputs": [
    {
     "name": "stdout",
     "output_type": "stream",
     "text": [
      "diriga com segurança!\n"
     ]
    }
   ],
   "source": [
    "velocidade = int(input(\"qual é a velocidade atual do carro? \"))\n",
    "if velocidade >= 80:\n",
    "    print(\"Multa por excesso de velocidade. Os KM acima do limite custará R${}.\".format((velocidade - 80)*7))\n",
    "else:\n",
    "    print(\"diriga com segurança!\")"
   ]
  },
  {
   "attachments": {},
   "cell_type": "markdown",
   "metadata": {},
   "source": [
    "ex 30 par ou impar?"
   ]
  },
  {
   "cell_type": "code",
   "execution_count": 8,
   "metadata": {},
   "outputs": [
    {
     "name": "stdout",
     "output_type": "stream",
     "text": [
      "numero é impar\n"
     ]
    }
   ],
   "source": [
    "numero = int(input(\"digite um numero: \"))\n",
    "if numero % 2 == 0:\n",
    "    print(\"numero é par\")\n",
    "else:\n",
    "    print(\"numero é impar\")\n",
    "\n",
    "# poderia ser resultado = numero % 2 se for 0 par, else impar"
   ]
  },
  {
   "attachments": {},
   "cell_type": "markdown",
   "metadata": {},
   "source": [
    "ex 31 Custo da Viagem"
   ]
  },
  {
   "cell_type": "code",
   "execution_count": 14,
   "metadata": {},
   "outputs": [
    {
     "name": "stdout",
     "output_type": "stream",
     "text": [
      "o preço da passagem será R$ 225.00\n"
     ]
    }
   ],
   "source": [
    "distancia = int(input(\"qual a distancia em km?\"))\n",
    "if distancia <= 200:\n",
    "    print(\"o preço da passagem será R$ {:.2f}\".format(distancia * 0.50))\n",
    "else:\n",
    "    print(\"o preço da passagem será R$ {:.2f}\".format(distancia * 0.45))\n",
    "\n",
    "#resolver usando o operador ternario\n",
    "#preco = distancia * 0.50 if distancia <= 200 else distancia * 0.45"
   ]
  },
  {
   "attachments": {},
   "cell_type": "markdown",
   "metadata": {},
   "source": [
    "ex 33 Maior e menor valores"
   ]
  },
  {
   "cell_type": "code",
   "execution_count": 1,
   "metadata": {},
   "outputs": [
    {
     "name": "stdout",
     "output_type": "stream",
     "text": [
      "o menor é 7\n",
      "o menor é 45\n"
     ]
    }
   ],
   "source": [
    "v1 = int(input(\"primeiro valor: \"))\n",
    "v2 = int(input(\"segundo valor: \"))\n",
    "v3 = int(input(\"terceiro valor: \"))\n",
    "\n",
    "#considera que o v1 é o menor, tem apenas dois if\n",
    "menor = v1 \n",
    "if v2 < v1 and v2 < v3:\n",
    "    menor = v2 \n",
    "if v3 < v1 and v3 < v2:\n",
    "    menor = v3 \n",
    "print(\"o menor é {}\".format(menor))\n",
    "\n",
    "maior = v1\n",
    "if v2 > v1 and v2 > v3:\n",
    "    maior = v2\n",
    "if v3 > v1 and v3 > v2:\n",
    "    maior = v3 \n",
    "print(\"o menor é {}\".format(maior))"
   ]
  },
  {
   "attachments": {},
   "cell_type": "markdown",
   "metadata": {},
   "source": [
    "ex 34 aumentos multiplos"
   ]
  },
  {
   "cell_type": "code",
   "execution_count": 10,
   "metadata": {},
   "outputs": [
    {
     "name": "stdout",
     "output_type": "stream",
     "text": [
      "quem ganhava R$1000.00 passa a ganhar R$ 1100.00\n"
     ]
    }
   ],
   "source": [
    "salario = int(input(\"qual o salario? \"))\n",
    "if salario <= 1.250:\n",
    "    pc = salario * 15/100\n",
    "    print(\"quem ganhava R${:.2f} passa a ganhar R$ {:.2f}\".format(salario, (salario + pc)))\n",
    "else:\n",
    "    pc = salario * 10/100\n",
    "    print(\"quem ganhava R${:.2f} passa a ganhar R$ {:.2f}\".format(salario, (salario + pc)))"
   ]
  },
  {
   "attachments": {},
   "cell_type": "markdown",
   "metadata": {},
   "source": [
    "ex 35 analisando triangulo"
   ]
  },
  {
   "cell_type": "code",
   "execution_count": 3,
   "metadata": {},
   "outputs": [
    {
     "name": "stdout",
     "output_type": "stream",
     "text": [
      "-=-=-=-=-=-=-=-=-=-=-=-=-=-=-=-=-=-=-=-=\n",
      "analisador de triangulos\n",
      "as retas 1, 2 e 3 NAO PODEM formar um triangulo\n"
     ]
    }
   ],
   "source": [
    "print(\"-=\"*20)\n",
    "print(\"analisador de triangulos\")\n",
    "\n",
    "r1 = float(input(\"primeira reta: \"))\n",
    "r2 = float(input(\"segunda reta: \"))\n",
    "r3 = float(input(\"terceira reta: \"))\n",
    "\n",
    "if r1 + r2 > r3 and r1 + r3 > r2 and r3 + r2 > r1:\n",
    "    print(\"as retas 1, 2 e 3 PODEM formar um triangulo\")\n",
    "else:\n",
    "    print(\"as retas 1, 2 e 3 NAO PODEM formar um triangulo\")"
   ]
  },
  {
   "attachments": {},
   "cell_type": "markdown",
   "metadata": {},
   "source": [
    "MUNDO DOIS\n",
    "**ESTRUTURAS DE CONTROLE: CONDIÇÕES E LAÇOS**\n",
    "\n",
    "\n",
    "Condições aninhadas"
   ]
  },
  {
   "attachments": {},
   "cell_type": "markdown",
   "metadata": {},
   "source": [
    "ex 36 aprovando empréstimo"
   ]
  },
  {
   "cell_type": "code",
   "execution_count": 17,
   "metadata": {},
   "outputs": [
    {
     "name": "stdout",
     "output_type": "stream",
     "text": [
      "emprestimo aprovado, prestação 1000.0\n"
     ]
    }
   ],
   "source": [
    "vl_casa = float(input(\"qual o valor da casa? \"))\n",
    "vl_salario = float(input(\"qual o valor do salario? \"))\n",
    "anos = int(input(\"em quantos anos vai pagar? \"))\n",
    "\n",
    "prestacao = vl_casa / (anos * 12)\n",
    " \n",
    "\n",
    "if prestacao <= (vl_salario * 30 / 100):\n",
    "    print(\"emprestimo aprovado, prestação {}\".format(prestacao))\n",
    "else:\n",
    "    print(\"emprestimo negado, pois a prestação minima é {}\".format((vl_salario * 30 / 100)))"
   ]
  },
  {
   "attachments": {},
   "cell_type": "markdown",
   "metadata": {},
   "source": [
    "ex 37 Conversor de Bases Numéricas"
   ]
  },
  {
   "cell_type": "code",
   "execution_count": 23,
   "metadata": {},
   "outputs": [
    {
     "name": "stdout",
     "output_type": "stream",
     "text": [
      "235 convertido para binario é 0b11101011\n"
     ]
    }
   ],
   "source": [
    "numero = int(input(\"digite um numero inteiro: \"))\n",
    "opcao = int(input(\"escolha as bases para conversão: \\n [1] Binario \\n [2] Octal \\n [3] Hexadecimal\"))\n",
    "\n",
    "if opcao == 1:\n",
    "    print(\"{} convertido para binario é {}\".format(numero, bin(numero)))\n",
    "elif opcao == 2:\n",
    "    print(\"{} convertido para binario é {}\".format(numero, hex(numero)))\n",
    "elif opcao == 3:\n",
    "    print(\"{} convertido para binario é {}\".format(numero, oct(numero)))\n",
    "else:\n",
    "    print(\"escolha não contemplada\")                        \n",
    "          "
   ]
  },
  {
   "attachments": {},
   "cell_type": "markdown",
   "metadata": {},
   "source": [
    "ex 38: Comparando numeros"
   ]
  },
  {
   "cell_type": "code",
   "execution_count": 25,
   "metadata": {},
   "outputs": [
    {
     "name": "stdout",
     "output_type": "stream",
     "text": [
      "os numeros são iguais\n"
     ]
    }
   ],
   "source": [
    "p1 = int(input())\n",
    "p2 = int(input())\n",
    "\n",
    "if p1 < p2:\n",
    "    print(\"{} é menor que {}\".format(p1,p2))\n",
    "elif p1 > p2:\n",
    "    print(\"{} é maior que {}\".format(p1,p2))\n",
    "else:\n",
    "    print(\"os numeros são iguais\")"
   ]
  },
  {
   "attachments": {},
   "cell_type": "markdown",
   "metadata": {},
   "source": [
    "ex 39 alistamento militar"
   ]
  },
  {
   "cell_type": "code",
   "execution_count": 36,
   "metadata": {},
   "outputs": [
    {
     "name": "stdout",
     "output_type": "stream",
     "text": [
      "quem nasceu em 1969, tem 54 anos.\n",
      " você já deveria ter se alistado há 36 anos.\n",
      " Seu alistamento foi em 1987\n"
     ]
    }
   ],
   "source": [
    "import datetime\n",
    "today = datetime.date.today()\n",
    "year = today.year\n",
    "\n",
    "nasc = int(input(\"ano de nascimento: \"))\n",
    "\n",
    "if (year - nasc) == 18:\n",
    "   print(\"quem nasceu em {}, tem {} anos.\\n aliste-se imediatamente!\".format(nasc,(year-nasc)))\n",
    "elif year - nasc < 18:\n",
    "   print(\"ainda faltam {} anos para o alistamento. \\n O alistamento será em {}\"\n",
    "         .format((18 - (year - nasc)), (year + (18 - (year - nasc)))))\n",
    "else:\n",
    "   print(\"quem nasceu em {}, tem {} anos.\\n você já deveria ter se alistado há {} anos.\\n Seu alistamento foi em {}\"\n",
    "         .format(nasc,(year-nasc),((year-nasc) - 18), (year - ((year-nasc) - 18))))"
   ]
  },
  {
   "attachments": {},
   "cell_type": "markdown",
   "metadata": {},
   "source": [
    "ex 40 classico de média"
   ]
  },
  {
   "cell_type": "code",
   "execution_count": 39,
   "metadata": {},
   "outputs": [
    {
     "name": "stdout",
     "output_type": "stream",
     "text": [
      "tirando 2.0 e 4.0, a média do aluno é 3.0\n",
      " e está reprovado.\n"
     ]
    }
   ],
   "source": [
    "p1 = float(input(\"primeira nota: \"))\n",
    "p2 = float(input(\"segunda nota: \"))\n",
    "media = (p1 + p1 / 2)\n",
    "\n",
    "if media >= 7:\n",
    "    print(\"tirando {} e {}, a média do aluno é {}\\n e está aprovado.\"\n",
    "          .format(p1,p2,media))\n",
    "elif media < 5:\n",
    "    print(\"tirando {} e {}, a média do aluno é {}\\n e está reprovado.\"\n",
    "          .format(p1,p2,media))\n",
    "else: \n",
    "    print(\"tirando {} e {}, a média do aluno é {}\\n e está em recuperação.\"\n",
    "          .format(p1,p2,media))"
   ]
  },
  {
   "attachments": {},
   "cell_type": "markdown",
   "metadata": {},
   "source": [
    "ex 41 Classificando atletas"
   ]
  },
  {
   "cell_type": "code",
   "execution_count": 3,
   "metadata": {},
   "outputs": [
    {
     "name": "stdout",
     "output_type": "stream",
     "text": [
      "o atleta tem 18 anos.\n",
      " Classificação: Junior\n"
     ]
    }
   ],
   "source": [
    "import datetime\n",
    "today = datetime.date.today()\n",
    "year = today.year\n",
    "\n",
    "ano_nascimento = int(input(\"Ano de Nascimento: \"))\n",
    "idade = year - ano_nascimento\n",
    "if idade <= 9:\n",
    "    categoria = 'Mirim'\n",
    "    print(\"o atleta tem {} anos.\\n Classificação: {}\".format(idade,categoria))\n",
    "elif idade <= 14:\n",
    "    categoria = 'Infantil'\n",
    "    print(\"o atleta tem {} anos.\\n Classificação: {}\".format(idade,categoria))\n",
    "elif idade <= 19:\n",
    "    categoria = 'Junior'\n",
    "    print(\"o atleta tem {} anos.\\n Classificação: {}\".format(idade,categoria))\n",
    "elif idade <= 25: \n",
    "    categoria = 'Master'\n",
    "    print(\"o atleta tem {} anos.\\n Classificação: {}\".format(idade,categoria))\n",
    "else:\n",
    "    categoria = 'Master' \n",
    "    print(\"o atleta tem {} anos.\\n Classificação: {}\".format(idade,categoria))"
   ]
  },
  {
   "attachments": {},
   "cell_type": "markdown",
   "metadata": {},
   "source": [
    "ex 42 - Analisando Triângulos v 2.0"
   ]
  },
  {
   "cell_type": "code",
   "execution_count": 15,
   "metadata": {},
   "outputs": [
    {
     "name": "stdout",
     "output_type": "stream",
     "text": [
      "-=-=-=-=-=-=-=-=-=-=-=-=-=-=-=-=-=-=-=-=\n",
      "analisador de triangulos\n",
      "as retas 1, 2 e 3 PODEM formar um triangulo\n",
      "ISOSCELES\n"
     ]
    }
   ],
   "source": [
    "print(\"-=\"*20)\n",
    "print(\"analisador de triangulos\")\n",
    "\n",
    "r1 = float(input(\"primeira reta: \"))\n",
    "r2 = float(input(\"segunda reta: \"))\n",
    "r3 = float(input(\"terceira reta: \"))\n",
    "\n",
    "if r1 + r2 > r3 and r1 + r3 > r2 and r3 + r2 > r1:\n",
    "    print(\"as retas 1, 2 e 3 PODEM formar um triangulo\")\n",
    "    if r1 == r2 and r2 == r3: #poderia escrever r1 == r2 == r3\n",
    "        print(\"EQUILATERO\")\n",
    "    elif r1 != r2 != r3 != r1: #em != nao é inclusivo\n",
    "        print(\"ESCALENO\")\n",
    "    else: \n",
    "        print(\"ISOSCELES\")  \n",
    "else:\n",
    "    print(\"as retas 1, 2 e 3 NAO PODEM formar um triangulo\")     "
   ]
  },
  {
   "attachments": {},
   "cell_type": "markdown",
   "metadata": {},
   "source": [
    "ex 43 IMC"
   ]
  },
  {
   "cell_type": "code",
   "execution_count": 24,
   "metadata": {},
   "outputs": [
    {
     "name": "stdout",
     "output_type": "stream",
     "text": [
      "o IMC dessa pessoa é: 22.13 e está no peso ideal\n"
     ]
    }
   ],
   "source": [
    "peso = float(input(\"qual é o seu peso?\"))\n",
    "altura = float(input(\"qual é a sua altura?\"))\n",
    "\n",
    "imc = peso / (altura ** 2)\n",
    "\n",
    "if imc <= 18.5:\n",
    "    print(\"o IMC dessa pessoa é: {:.2f} e está {}\".format(imc,\"abaixo do peso\"))\n",
    "elif 18.5 <= imc < 25:\n",
    "    print(\"o IMC dessa pessoa é: {:.2f} e está {}\".format(imc,\"no peso ideal\"))\n",
    "elif 25 <= imc < 30:\n",
    "    print(\"o IMC dessa pessoa é: {:.2f} e está {}\".format(imc,\"sobrepeso\"))\n",
    "elif 30 <= imc < 40:\n",
    "    print(\"o IMC dessa pessoa é: {:.2f} e está {}\".format(imc,\"obeso\"))\n",
    "else:\n",
    "    print(\"o IMC dessa pessoa é: {:.2f} e está {}\".format(imc,\"em obesidade mórbida\"))\n",
    "\n",
    "    \n",
    "\n"
   ]
  },
  {
   "attachments": {},
   "cell_type": "markdown",
   "metadata": {},
   "source": [
    "ex 44 gerenciador de pagamentos"
   ]
  },
  {
   "cell_type": "code",
   "execution_count": 10,
   "metadata": {},
   "outputs": [
    {
     "name": "stdout",
     "output_type": "stream",
     "text": [
      "Forma de Pagamento: \n",
      " [1] a vista dinheiro \n",
      " [2] a vista cartão \n",
      " [3] 2x no cartão \n",
      " [4] 3x ou mais no cartão\n",
      " Qual é a opção? \n",
      "sua compra será parcelada em 10 vezes.\n",
      " de R$4000.00 vai custar R$4800.00 no final.\n"
     ]
    }
   ],
   "source": [
    "preco_compra = float(input(\"Preço das compras: R$ \"))\n",
    "print(\"Forma de Pagamento: \\n [1] a vista dinheiro \\n [2] a vista cartão \\n [3] 2x no cartão \\n [4] 3x ou mais no cartão\\n Qual é a opção? \")\n",
    "forma_pagamento = int(input(\"\"))\n",
    "\n",
    "if forma_pagamento == 1:\n",
    "    desconto = 0.1 * preco_compra\n",
    "    preco_final = preco_compra - desconto\n",
    "elif forma_pagamento == 2:\n",
    "    desconto = 0.05 * preco_compra\n",
    "    preco_final = preco_compra - desconto \n",
    "#    print(\"sua compra de R${:.2f} vai custar R${:.2f} no final.\".format(preco_compra, preco_final))\n",
    "elif forma_pagamento == 3:\n",
    "    valor_parcela = preco_compra / 2\n",
    "    print(\"sua compra de R${:.2f} no final em duas parcelas de R${:.2f}.\".format(preco_compra,valor_parcela))\n",
    "elif forma_pagamento == 4:\n",
    "    num_parcelas = int(input(\"quantas parcelas?\"))\n",
    "    juros = 0.2 * preco_compra\n",
    "    preco_final = preco_compra + juros \n",
    "else:\n",
    "    print(\"forma de pagamento não aceita\")\n",
    "print(\"sua compra será parcelada em {} vezes.\\n de R${:.2f} vai custar R${:.2f} no final.\".format(num_parcelas,preco_compra, preco_final))\n",
    "     "
   ]
  },
  {
   "attachments": {},
   "cell_type": "markdown",
   "metadata": {},
   "source": [
    "ex 45 game pedra, papel, tesoura"
   ]
  },
  {
   "cell_type": "code",
   "execution_count": 16,
   "metadata": {},
   "outputs": [
    {
     "name": "stdout",
     "output_type": "stream",
     "text": [
      "Suas opções:\n",
      " [0] PEDRA \n",
      " [1] PAPEL \n",
      " [2] TESOURA\n",
      "JO\n",
      "KEN\n",
      "PO!!!\n",
      "computador jogou tesoura e jogador papel, computador vence\n"
     ]
    }
   ],
   "source": [
    "print(\"Suas opções:\\n [0] PEDRA \\n [1] PAPEL \\n [2] TESOURA\")\n",
    "from random import randint \n",
    "computador = randint(0,2)\n",
    "jogada = int(input(\"qual é sua jogada? \"))\n",
    "print(\"JO\\nKEN\\nPO!!!\")\n",
    "\n",
    "if computador == 0 and jogada == 1: #pedra papel\n",
    "    print(\"computador jogou pedra e jogador papel, jogador vence\")\n",
    "elif computador == 1 and jogada == 0:\n",
    "    print(\"computador jogou papel e jogador pedra, computador vence\")\n",
    "elif computador == 0 and jogada == 2: #pedra tesoura\n",
    "    print(\"computador jogou pedra e jogador tesoura, computador vence\")\n",
    "elif computador == 2 and jogada == 0:\n",
    "    print(\"computador jogou tesoura e jogador pedra, computador vence\")\n",
    "elif computador == 2 and jogada == 1: #papel tesoura\n",
    "    print(\"computador jogou tesoura e jogador papel, computador vence\")\n",
    "elif computador == 1 and jogada == 2:\n",
    "    print(\"computador jogou tesoura e jogador papel, computador vence\")\n",
    "else: \n",
    "    print(\"tente outra jogada\")    \n"
   ]
  }
 ],
 "metadata": {
  "kernelspec": {
   "display_name": "Python 3",
   "language": "python",
   "name": "python3"
  },
  "language_info": {
   "codemirror_mode": {
    "name": "ipython",
    "version": 3
   },
   "file_extension": ".py",
   "mimetype": "text/x-python",
   "name": "python",
   "nbconvert_exporter": "python",
   "pygments_lexer": "ipython3",
   "version": "3.10.4"
  },
  "orig_nbformat": 4
 },
 "nbformat": 4,
 "nbformat_minor": 2
}
