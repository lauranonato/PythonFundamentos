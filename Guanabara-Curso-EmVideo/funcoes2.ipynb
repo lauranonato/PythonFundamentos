{
 "cells": [
  {
   "attachments": {},
   "cell_type": "markdown",
   "metadata": {},
   "source": [
    "**FUNCOES 2**"
   ]
  },
  {
   "attachments": {},
   "cell_type": "markdown",
   "metadata": {},
   "source": [
    "EX 101 FUNCOES PARA VOTACAO"
   ]
  },
  {
   "cell_type": "code",
   "execution_count": 25,
   "metadata": {},
   "outputs": [],
   "source": [
    "def voto(ano):\n",
    "    from datetime import date \n",
    "    dia_atual = date.today()\n",
    "    ano_atual = dia_atual.year\n",
    "\n",
    "    if (ano_atual - ano >= 70) or (ano_atual - ano >= 16 and ano_atual - ano <= 17):\n",
    "        print(\"VOTO OPCIONAL\")\n",
    "    elif ano_atual - ano < 16:\n",
    "        print(\"VOTO NEGADO\")\n",
    "    else:\n",
    "        print(\"VOTO OBRIGATORIO\")\n",
    "        \n",
    "\n",
    " "
   ]
  },
  {
   "cell_type": "code",
   "execution_count": 26,
   "metadata": {},
   "outputs": [
    {
     "name": "stdout",
     "output_type": "stream",
     "text": [
      "VOTO OPCIONAL\n"
     ]
    }
   ],
   "source": [
    "voto(1951) #72"
   ]
  },
  {
   "cell_type": "code",
   "execution_count": 27,
   "metadata": {},
   "outputs": [
    {
     "name": "stdout",
     "output_type": "stream",
     "text": [
      "VOTO OPCIONAL\n"
     ]
    }
   ],
   "source": [
    "voto(2007) #16"
   ]
  },
  {
   "cell_type": "code",
   "execution_count": 28,
   "metadata": {},
   "outputs": [
    {
     "name": "stdout",
     "output_type": "stream",
     "text": [
      "VOTO NEGADO\n"
     ]
    }
   ],
   "source": [
    "voto(2009) #14"
   ]
  },
  {
   "cell_type": "code",
   "execution_count": 29,
   "metadata": {},
   "outputs": [
    {
     "name": "stdout",
     "output_type": "stream",
     "text": [
      "VOTO OBRIGATORIO\n"
     ]
    }
   ],
   "source": [
    "voto(1997) #25"
   ]
  },
  {
   "attachments": {},
   "cell_type": "markdown",
   "metadata": {},
   "source": [
    "EX 103 FICHA DO JOGADOR"
   ]
  },
  {
   "cell_type": "code",
   "execution_count": 14,
   "metadata": {},
   "outputs": [
    {
     "name": "stdout",
     "output_type": "stream",
     "text": [
      "O jogador paulo fez 3 gol(s) .\n"
     ]
    }
   ],
   "source": [
    "def ficha(nome='<desconhecido>', gols='0'):\n",
    "    print(f'O jogador {nome} fez {gols} gol(s) .')\n",
    "\n",
    "nome = str(input('Nome do jogador: '))\n",
    "gols = str(input(f'Quantos gols fez o jogador {nome if nome != \" \" else \"<desconhecido>\"}? '))\n",
    "if gols.isnumeric() is False:\n",
    "    gols = '0'\n",
    "if nome.strip() == '':\n",
    "    ficha(gols=gols)\n",
    "else:\n",
    "    ficha(nome=nome, gols=gols) \n"
   ]
  },
  {
   "attachments": {},
   "cell_type": "markdown",
   "metadata": {},
   "source": [
    "EX 104 VALIDANDO ENTRADA DE DADOS"
   ]
  },
  {
   "cell_type": "code",
   "execution_count": 16,
   "metadata": {},
   "outputs": [],
   "source": [
    "def leiaint():\n",
    "#    numero = input('digite um numero: ')\n",
    "    while True:\n",
    "        try:\n",
    "            numero = int(input(\"digite um numero: \"))\n",
    "            print(f\"voce acabou de digitar o numero {numero}\")\n",
    "            break\n",
    "        except ValueError:\n",
    "            print(\"Erro! digite um numero inteiro valido\")  "
   ]
  },
  {
   "cell_type": "code",
   "execution_count": 17,
   "metadata": {},
   "outputs": [
    {
     "name": "stdout",
     "output_type": "stream",
     "text": [
      "voce acabou de digitar o numero 5\n"
     ]
    }
   ],
   "source": [
    "leiaint()"
   ]
  },
  {
   "cell_type": "code",
   "execution_count": 18,
   "metadata": {},
   "outputs": [
    {
     "name": "stdout",
     "output_type": "stream",
     "text": [
      "Erro! digite um numero inteiro valido\n",
      "voce acabou de digitar o numero 35\n"
     ]
    }
   ],
   "source": [
    "leiaint()"
   ]
  },
  {
   "attachments": {},
   "cell_type": "markdown",
   "metadata": {},
   "source": [
    "EX 105 ANALISANDO E GERANDO DICIONARIOS"
   ]
  },
  {
   "cell_type": "code",
   "execution_count": 31,
   "metadata": {},
   "outputs": [],
   "source": [
    "def notas(*n, sit=False):#* n recebe mais de um elemento no parametro nota e sit=false parametro opcional que nao recebe nada como default,\n",
    "    dicionario_notas = dict()\n",
    "    total = len(n)\n",
    "    maior = max(n)\n",
    "    soma = sum(n)\n",
    "    media = (soma/total)\n",
    "\n",
    "    dicionario_notas['total'] = total \n",
    "    dicionario_notas['maior'] = maior \n",
    "    dicionario_notas['media'] = media\n",
    "\n",
    "    if sit: #situacao verdadeira\n",
    "        if dicionario_notas['media'] < 5:\n",
    "            dicionario_notas['situacao'] = 'RUIM'\n",
    "        elif dicionario_notas['media'] >= 5 and media < 7:\n",
    "           dicionario_notas['situacao'] = 'RAZOAVEL'\n",
    "        else:\n",
    "            dicionario_notas['situacao'] = 'BOA'\n",
    "\n",
    "    return dicionario_notas"
   ]
  },
  {
   "cell_type": "code",
   "execution_count": 32,
   "metadata": {},
   "outputs": [
    {
     "data": {
      "text/plain": [
       "{'total': 4, 'maior': 10, 'media': 6.125, 'situacao': 'RAZOAVEL'}"
      ]
     },
     "execution_count": 32,
     "metadata": {},
     "output_type": "execute_result"
    }
   ],
   "source": [
    "notas(5.5,2.5,10,6.5,sit=True)"
   ]
  }
 ],
 "metadata": {
  "kernelspec": {
   "display_name": "Python 3",
   "language": "python",
   "name": "python3"
  },
  "language_info": {
   "codemirror_mode": {
    "name": "ipython",
    "version": 3
   },
   "file_extension": ".py",
   "mimetype": "text/x-python",
   "name": "python",
   "nbconvert_exporter": "python",
   "pygments_lexer": "ipython3",
   "version": "3.10.4"
  },
  "orig_nbformat": 4
 },
 "nbformat": 4,
 "nbformat_minor": 2
}
