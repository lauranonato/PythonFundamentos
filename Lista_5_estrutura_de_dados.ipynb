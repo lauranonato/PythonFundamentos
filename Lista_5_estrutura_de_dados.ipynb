{
  "nbformat": 4,
  "nbformat_minor": 0,
  "metadata": {
    "colab": {
      "name": "Lista 5 - estrutura de dados",
      "provenance": [],
      "authorship_tag": "ABX9TyOdY5xv66npWni2DEHXpW2O",
      "include_colab_link": true
    },
    "kernelspec": {
      "name": "python3",
      "display_name": "Python 3"
    }
  },
  "cells": [
    {
      "cell_type": "markdown",
      "metadata": {
        "id": "view-in-github",
        "colab_type": "text"
      },
      "source": [
        "<a href=\"https://colab.research.google.com/github/lauranonato/PythonFundamentos/blob/main/Lista_5_estrutura_de_dados.ipynb\" target=\"_parent\"><img src=\"https://colab.research.google.com/assets/colab-badge.svg\" alt=\"Open In Colab\"/></a>"
      ]
    },
    {
      "cell_type": "markdown",
      "metadata": {
        "id": "3NlIRlemtgiw"
      },
      "source": [
        "1-Crie uma lista de 4 elementos. O primeiro elemento deve ser uma string, o segundo uma tupla de 2 elementos, o terceiro um dicionário com 2 chaves e 2 valores e o quarto elemento um valor do tipo float.Imprima a lista na tela.\n"
      ]
    },
    {
      "cell_type": "code",
      "metadata": {
        "colab": {
          "base_uri": "https://localhost:8080/"
        },
        "id": "49D7OJF6ti8d",
        "outputId": "21008307-cdd5-451e-e311-2d509345f564"
      },
      "source": [
        "lista = ['Laura', (1,2),{'amarelo': 'Yellow', 'azul': 'azul'}, 0.2]\n",
        "lista"
      ],
      "execution_count": null,
      "outputs": [
        {
          "output_type": "execute_result",
          "data": {
            "text/plain": [
              "['Laura', (1, 2), {'amarelo': 'Yellow', 'azul': 'azul'}, 0.2]"
            ]
          },
          "metadata": {
            "tags": []
          },
          "execution_count": 2
        }
      ]
    },
    {
      "cell_type": "markdown",
      "metadata": {
        "id": "Cx-vwbMMugyF"
      },
      "source": [
        "2-Crie um dicionário com 3 chaves e 3 valores e imprima na tela.\n"
      ]
    },
    {
      "cell_type": "code",
      "metadata": {
        "colab": {
          "base_uri": "https://localhost:8080/"
        },
        "id": "G_ICa0YIuhfZ",
        "outputId": "0fe05524-7f2f-47cb-dc5e-517a14731766"
      },
      "source": [
        "d1 = {'chave1':'laura','chave2':'Marcos','chave3':'Felicidade'}\n",
        "d1"
      ],
      "execution_count": null,
      "outputs": [
        {
          "output_type": "execute_result",
          "data": {
            "text/plain": [
              "{'chave1': 'laura', 'chave2': 'Marcos', 'chave3': 'Felicidade'}"
            ]
          },
          "metadata": {
            "tags": []
          },
          "execution_count": 4
        }
      ]
    },
    {
      "cell_type": "markdown",
      "metadata": {
        "id": "C_ViJEVzvVvF"
      },
      "source": [
        "3-Adicione mais um elemento ao dicionário anterior e imprima na tela.\n"
      ]
    },
    {
      "cell_type": "code",
      "metadata": {
        "colab": {
          "base_uri": "https://localhost:8080/"
        },
        "id": "v1IbjL2_vWgE",
        "outputId": "628c0ba5-0ad0-4841-a4c9-80544e09201c"
      },
      "source": [
        "d1 = {'chave1':'laura','chave2':'Marcos','chave3':'Felicidade'}\n",
        "d1.update({'chave3':'amor'})\n",
        "d1"
      ],
      "execution_count": null,
      "outputs": [
        {
          "output_type": "execute_result",
          "data": {
            "text/plain": [
              "{'chave1': 'laura', 'chave2': 'Marcos', 'chave3': 'amor'}"
            ]
          },
          "metadata": {
            "tags": []
          },
          "execution_count": 6
        }
      ]
    }
  ]
}