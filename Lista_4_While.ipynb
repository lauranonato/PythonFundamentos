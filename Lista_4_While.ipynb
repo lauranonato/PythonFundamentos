{
  "nbformat": 4,
  "nbformat_minor": 0,
  "metadata": {
    "colab": {
      "name": "Lista 4 - While",
      "provenance": [],
      "authorship_tag": "ABX9TyOwQxFCDxU6RmxamShY/BSe",
      "include_colab_link": true
    },
    "kernelspec": {
      "name": "python3",
      "display_name": "Python 3"
    }
  },
  "cells": [
    {
      "cell_type": "markdown",
      "metadata": {
        "id": "view-in-github",
        "colab_type": "text"
      },
      "source": [
        "<a href=\"https://colab.research.google.com/github/lauranonato/PythonFundamentos/blob/main/Lista_4_While.ipynb\" target=\"_parent\"><img src=\"https://colab.research.google.com/assets/colab-badge.svg\" alt=\"Open In Colab\"/></a>"
      ]
    },
    {
      "cell_type": "markdown",
      "metadata": {
        "id": "9fFQ3Dg813YG"
      },
      "source": [
        "1- Faça um programa que leia o sexo de uma pessoa mas só aceite os valores \"M\" ou \"F\".Caso esteja errado, peça a digitação novamente até ter um valor correto.\n",
        "\n",
        "\n"
      ]
    },
    {
      "cell_type": "code",
      "metadata": {
        "colab": {
          "base_uri": "https://localhost:8080/"
        },
        "id": "LazJSnwG187U",
        "outputId": "349177f6-c6dd-42bb-fe53-6f3c894e3f2b"
      },
      "source": [
        "sexo = input('Insira o sexo Feminino ou Masculino: ')\n",
        "while f == 'm' or m == 'f':\n",
        "  sexo = input('Digite apenas letras maiúsculas: ')\n",
        "\n",
        "print('Informação inserida!')\n"
      ],
      "execution_count": null,
      "outputs": [
        {
          "output_type": "stream",
          "text": [
            "Insira o sexo Feminino ou Masculino: m\n",
            "Informação inserida!\n"
          ],
          "name": "stdout"
        }
      ]
    },
    {
      "cell_type": "code",
      "metadata": {
        "id": "aqNrgroieadj"
      },
      "source": [
        "#resposta correta\n",
        "sex = str(input(\"Qual o seu sexo? Digite M ou F: \\n\")).strip().upper()[0] #strip() separa a palavra em acda caracter e o [0] pega a primeira letra\n",
        "#ex: feminino = ['F', 'E', 'M', 'I', 'N', 'I', 'N', 'O'] = retorna F\n",
        "\n",
        "while sex not in \"MmFf\":\n",
        "    sex = str(input(\"Digite no formato válido : \")).strip().upper()[0]\n",
        "print(\"Sexo {} registrado com sucesso.\".format(sex))\n"
      ],
      "execution_count": null,
      "outputs": []
    },
    {
      "cell_type": "markdown",
      "metadata": {
        "id": "mbAZoyLq44C8"
      },
      "source": [
        "Faça um programa que leia e valide as seguintes informações:\n",
        "Nome: maior que 3 caracteres;\n",
        "Idade: entre 0 e 150;\n",
        "Salário: maior que zero;\n",
        "Sexo: 'f' ou 'm';\n",
        "Estado Civil: 's', 'c', 'v', 'd';\n"
      ]
    },
    {
      "cell_type": "code",
      "metadata": {
        "id": "vATwLisP5BOL"
      },
      "source": [
        "nome = input('Digita o nome: ')\n",
        "while len(nome) <= 3:\n",
        "  nome = input('Digite o nome maior que 3 caracteres: ')\n",
        "  print('O nome é {}'.format(nome))\n",
        "\n",
        "idade = int(input('digite a idade: '))\n",
        "while idade <= 0 and >= 150:\n",
        "  idade = input('Digite uma idade válida: ')\n",
        "  print('A idade é {}'.format(idade))\n",
        "\n",
        "salario = float(input(salario))\n",
        "while salario <= 0.0\n",
        "salario = float(input('digite um salário acima de 0 reais: '))\n",
        "print('O salario é {}'.format(salario))\n",
        "\n",
        "sexo = input('digite a idade: ')\n",
        "while sexo != f or sexo !=m:\n",
        "  \n",
        "estado_civil = ('digite o estado final: ')\n",
        "\n"
      ],
      "execution_count": null,
      "outputs": []
    },
    {
      "cell_type": "markdown",
      "metadata": {
        "id": "GPp14t6trFAo"
      },
      "source": [
        "3-Desenvolva um gerador de tabuada, capaz de gerar a tabuada de qualquer número inteiro entre 1 a 10. O usuário deve informar de qual numero ele deseja ver a  tabuada.\n"
      ]
    },
    {
      "cell_type": "code",
      "metadata": {
        "id": "2EZhNCfOrFwY"
      },
      "source": [
        "n = int(input(\"Digite um numero de 1 a 10: \"))\n",
        "cont = 1\n",
        "\n",
        "while cont <= 10:\n",
        "    tab = n * cont\n",
        "    print(n, \"X\", cont, \"=\", tab)\n",
        "    cont = cont + 1 #a cada iteração meu contador muda de nº. Começa em 1, depois 2, 3, ..."
      ],
      "execution_count": null,
      "outputs": []
    },
    {
      "cell_type": "markdown",
      "metadata": {
        "id": "vzYMFEE5rhM8"
      },
      "source": [
        "4-Faça um programa que calcule o mostre a média aritmética de N notas\n"
      ]
    },
    {
      "cell_type": "code",
      "metadata": {
        "id": "jXfeby9ArmZ5"
      },
      "source": [
        "numero_notas = int(input(\"Digite o número de notas que você irá digitar: \"))\n",
        "count = 0\n",
        "todas_notas = []\n",
        "\n",
        "while count < numero_notas:\n",
        "    notas = todas_notas.append(float(input(\"Digite a nota: \"))) #adicionando todos os valores na lista notas\n",
        "    count += 1\n",
        "\n",
        "media = sum(todas_notas) / numero_notas #função sum() para somar os valores de uma lista\n",
        "print(\"A média é igual a \", media)"
      ],
      "execution_count": null,
      "outputs": []
    },
    {
      "cell_type": "markdown",
      "metadata": {
        "id": "YqETzy6dsKIj"
      },
      "source": [
        "5-Crie uma variável chamada temperatura e atribua o valor 40. Enquanto\n",
        "Item da lista temperatura for maior que 35, imprima as temperaturas na tela"
      ]
    },
    {
      "cell_type": "code",
      "metadata": {
        "id": "GQ-H7JYQsQZq"
      },
      "source": [
        "temperatura = 40  \n",
        "while temperatura > 35: \n",
        "    print(temperatura)\n",
        "    temperatura = temperatura - 1"
      ],
      "execution_count": null,
      "outputs": []
    },
    {
      "cell_type": "markdown",
      "metadata": {
        "id": "pZ-xDjzLs5aR"
      },
      "source": [
        "Crie uma variável chamada contador = 0. Enquanto counter for menor que 100, imprima os valores na tela, mas quando for encontrado o valor 23, interrompa a execução do programa"
      ]
    },
    {
      "cell_type": "code",
      "metadata": {
        "id": "RygxzR65s6JT"
      },
      "source": [
        "contador = 0\n",
        "while contador < 100:\n",
        "    if contador == 23:\n",
        "        break\n",
        "    print(contador)\n",
        "    contador += 1"
      ],
      "execution_count": null,
      "outputs": []
    }
  ]
}