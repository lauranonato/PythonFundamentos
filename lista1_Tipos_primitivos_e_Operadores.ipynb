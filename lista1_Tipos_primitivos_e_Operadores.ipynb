{
  "nbformat": 4,
  "nbformat_minor": 0,
  "metadata": {
    "colab": {
      "name": "lista1 - Tipos primitivos e Operadores",
      "provenance": [],
      "authorship_tag": "ABX9TyN1+OzegAzwhEPMzNZwVFtv",
      "include_colab_link": true
    },
    "kernelspec": {
      "name": "python3",
      "display_name": "Python 3"
    }
  },
  "cells": [
    {
      "cell_type": "markdown",
      "metadata": {
        "id": "view-in-github",
        "colab_type": "text"
      },
      "source": [
        "<a href=\"https://colab.research.google.com/github/lauranonato/PythonFundamentos/blob/main/lista1_Tipos_primitivos_e_Operadores.ipynb\" target=\"_parent\"><img src=\"https://colab.research.google.com/assets/colab-badge.svg\" alt=\"Open In Colab\"/></a>"
      ]
    },
    {
      "cell_type": "markdown",
      "metadata": {
        "id": "mk_w6mjGgTbE"
      },
      "source": [
        "Crie um código que receba o nome de uma pessoa\n",
        "e apresente uma mensagem de recepção.\n",
        " "
      ]
    },
    {
      "cell_type": "code",
      "metadata": {
        "colab": {
          "base_uri": "https://localhost:8080/"
        },
        "id": "qRWmoY8UgW5o",
        "outputId": "d505150e-df27-4e96-8622-7f35529bd7f1"
      },
      "source": [
        "nome_pessoa = input('Qual é o seu nome? ')\n",
        "print('Seja bem vindx',nome_pessoa,'!')"
      ],
      "execution_count": null,
      "outputs": [
        {
          "output_type": "stream",
          "text": [
            "Qual é o seu nome? Laura\n",
            "Seja bem vindx Laura !\n"
          ],
          "name": "stdout"
        }
      ]
    },
    {
      "cell_type": "markdown",
      "metadata": {
        "id": "nzEQJ8bfhUpI"
      },
      "source": [
        "Desenvolva um código que calcule a média aritmétic\n",
        "a entre dois valores."
      ]
    },
    {
      "cell_type": "code",
      "metadata": {
        "colab": {
          "base_uri": "https://localhost:8080/"
        },
        "id": "Pndgd5UZhYbW",
        "outputId": "cd86dbbf-456a-490d-94d9-2e677aa823ab"
      },
      "source": [
        "num1 = 5\n",
        "num2 = 5\n",
        "media = (num1 + num2)/2\n",
        "print('A média de 5 + 5 é igual a ',media)"
      ],
      "execution_count": null,
      "outputs": [
        {
          "output_type": "stream",
          "text": [
            "A média de 5 + 5 é igual a  5.0\n"
          ],
          "name": "stdout"
        }
      ]
    },
    {
      "cell_type": "markdown",
      "metadata": {
        "id": "5Rt1VRMpiW7u"
      },
      "source": [
        "Crie um algoritmo que receba um número inteiro e r\n",
        "etorne o seu antecessor e o seu sucessor.\n"
      ]
    },
    {
      "cell_type": "code",
      "metadata": {
        "colab": {
          "base_uri": "https://localhost:8080/"
        },
        "id": "WETFgr04iasE",
        "outputId": "0441a0d5-000f-4fd5-8da3-9e9446c14896"
      },
      "source": [
        "n1 = int(input('digite um número inteiro: '))\n",
        "antecessor = n1-1\n",
        "sucessor = n1+1\n",
        "print('O antecessor desse número é:',antecessor,'e o sucessor é:',sucessor)"
      ],
      "execution_count": null,
      "outputs": [
        {
          "output_type": "stream",
          "text": [
            "digite um número inteiro: 24\n",
            "O antecessor desse número é: 23 e o sucessor é: 25\n"
          ],
          "name": "stdout"
        }
      ]
    },
    {
      "cell_type": "markdown",
      "metadata": {
        "id": "kz-nvdO1jgua"
      },
      "source": [
        "Um dono de um clube precisa cercar o campo de fut\n",
        "ebol society com uma tela de aço. O campo mede 30m de largura\n",
        "por 50m de comprimento. Sabendo que cada metro de tela custa\n",
        "R$ 26,00, desenvolva um programa que calcule quanto de tela de\n",
        "aço será necessária para cercar o campo e quanto custará."
      ]
    },
    {
      "cell_type": "code",
      "metadata": {
        "colab": {
          "base_uri": "https://localhost:8080/"
        },
        "id": "vrE0o-32j4Gl",
        "outputId": "ee02dcf1-0a87-4e63-d72f-2d79f6b3f8ef"
      },
      "source": [
        "#vou primeiro calcular a área \n",
        "largura = 30\n",
        "comprimento = 50\n",
        "area = largura*comprimento\n",
        "print('Será necessário',area,'metros de tela de aço para cobrir a quadra')"
      ],
      "execution_count": null,
      "outputs": [
        {
          "output_type": "stream",
          "text": [
            "Será necessário 1500 metros de tela de aço para cobrir a quadra\n"
          ],
          "name": "stdout"
        }
      ]
    },
    {
      "cell_type": "code",
      "metadata": {
        "colab": {
          "base_uri": "https://localhost:8080/"
        },
        "id": "LteRblinkd8L",
        "outputId": "facba60f-1e98-4ddb-fdf2-a73c980d9dc0"
      },
      "source": [
        "valor_metro = 26\n",
        "valor_obra = area*valor_metro\n",
        "print('cobrir o campo com tela de aço custará ',valor_obra,'reais.')"
      ],
      "execution_count": null,
      "outputs": [
        {
          "output_type": "stream",
          "text": [
            "cobrir o campo com tela de aço custará  39000 reais.\n"
          ],
          "name": "stdout"
        }
      ]
    },
    {
      "cell_type": "markdown",
      "metadata": {
        "id": "u35PemeMleQG"
      },
      "source": [
        "Uma empresa deve aumentar em 5% os salários de\n",
        "todos os seus programadores. Faça um algoritmo que calcule o v\n",
        "alor do novo salário sabendo que o atual salário de um\n",
        "programador é de 3500$."
      ]
    },
    {
      "cell_type": "code",
      "metadata": {
        "colab": {
          "base_uri": "https://localhost:8080/"
        },
        "id": "TBKL2tk6mF88",
        "outputId": "aae6bd08-d356-485b-8806-45a366a537c1"
      },
      "source": [
        "salario_atual = 3.500\n",
        "aumento = 0.05\n",
        "valor_aumento = 3.500*0.05\n",
        "novo_salario = 3.500+valor_aumento\n",
        "print('o valor do novo salário será de {} reais'.format(novo_salario))"
      ],
      "execution_count": null,
      "outputs": [
        {
          "output_type": "stream",
          "text": [
            "o valor do novo salário será de 3.675 reais\n"
          ],
          "name": "stdout"
        }
      ]
    },
    {
      "cell_type": "markdown",
      "metadata": {
        "id": "zIq6VD1coue1"
      },
      "source": [
        "Crie um código que converta o valor inserido pelo\n",
        "usuário (em reais) para a moeda do dólar. O dólar hoje está em\n",
        "torno de R$5,33.\n"
      ]
    },
    {
      "cell_type": "code",
      "metadata": {
        "colab": {
          "base_uri": "https://localhost:8080/"
        },
        "id": "5qs0Ooeuox4R",
        "outputId": "dd83899e-3176-404d-cf01-ce3c9fc91297"
      },
      "source": [
        "valor_usuario = float(input('Digite um valor em real: '))\n",
        "valor_dolar = 5.33\n",
        "conversao = valor_usuario * valor_dolar\n",
        "print('O valor de {} reais convertido em dolar é {} dólares'.format(valor_usuario, conversao))"
      ],
      "execution_count": null,
      "outputs": [
        {
          "output_type": "stream",
          "text": [
            "Digite um valor em real: 600\n",
            "O valor de 600.0 reais convertido em dolar é 3198.0 dólares\n"
          ],
          "name": "stdout"
        }
      ]
    },
    {
      "cell_type": "markdown",
      "metadata": {
        "id": "nB23x7lMr4Zt"
      },
      "source": [
        "Os produtos de uma loja terão um aumento de 6%.\n",
        "Crie um algoritmo que receba o valor do produto e mostre o seu\n",
        "novo preço com o aumento."
      ]
    },
    {
      "cell_type": "code",
      "metadata": {
        "colab": {
          "base_uri": "https://localhost:8080/"
        },
        "id": "oBPU0ljir8Tj",
        "outputId": "e74102b8-e079-41a6-ae52-f05ca10f64b8"
      },
      "source": [
        "aumento = 0.06\n",
        "valor_produto = float(input('Qual é o valor do produto?'))\n",
        "calculo = aumento * valor_produto\n",
        "valor_final = valor_produto + calculo\n",
        "print('O valor final do produto de {} reais com o aumento de 6% é de {} reais'.format(valor_produto, valor_final))"
      ],
      "execution_count": null,
      "outputs": [
        {
          "output_type": "stream",
          "text": [
            "Qual é o valor do produto?90\n",
            "O valor final do produto de 90.0 reais com o aumento de 6% é de 95.4 reais\n"
          ],
          "name": "stdout"
        }
      ]
    },
    {
      "cell_type": "markdown",
      "metadata": {
        "id": "A-VELyS1tD4p"
      },
      "source": [
        "Faça um código que mostre na tela a idade do\n",
        "usuário a partir do ano de nascimento inserido por ele."
      ]
    },
    {
      "cell_type": "code",
      "metadata": {
        "colab": {
          "base_uri": "https://localhost:8080/"
        },
        "id": "oMPxNTUKtIyi",
        "outputId": "aedeea5e-086d-4af9-ba83-af6f5b4810c5"
      },
      "source": [
        "ano_nascimento = int(input('qual é o ano do seu nascimento?'))\n",
        "idade = 2020 - ano_nascimento\n",
        "print('A sua idade é {} anos'.format(idade))\n"
      ],
      "execution_count": null,
      "outputs": [
        {
          "output_type": "stream",
          "text": [
            "qual é o ano do seu nascimento?1961\n",
            "A sua idade é 59 anos\n"
          ],
          "name": "stdout"
        }
      ]
    }
  ]
}