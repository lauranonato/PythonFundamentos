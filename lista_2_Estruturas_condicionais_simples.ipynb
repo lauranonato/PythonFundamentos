{
  "nbformat": 4,
  "nbformat_minor": 0,
  "metadata": {
    "colab": {
      "name": "lista 2 - Estruturas condicionais simples ",
      "provenance": [],
      "authorship_tag": "ABX9TyOhXfYe43Q/Q2pZn0V00N45",
      "include_colab_link": true
    },
    "kernelspec": {
      "name": "python3",
      "display_name": "Python 3"
    }
  },
  "cells": [
    {
      "cell_type": "markdown",
      "metadata": {
        "id": "view-in-github",
        "colab_type": "text"
      },
      "source": [
        "<a href=\"https://colab.research.google.com/github/lauranonato/PythonFundamentos/blob/main/lista_2_Estruturas_condicionais_simples.ipynb\" target=\"_parent\"><img src=\"https://colab.research.google.com/assets/colab-badge.svg\" alt=\"Open In Colab\"/></a>"
      ]
    },
    {
      "cell_type": "code",
      "metadata": {
        "id": "SmysR9BFzdrf"
      },
      "source": [
        "Crie um algoritmo que leia a velocidade em Km/h que um\n",
        "veículo passou em uma rodovia e informe se ele será multado ou não.\n",
        "Se a velocidade exceder 90 Km/h, o motorista deve ser MULTADO, se\n",
        "não, exiba uma mensagem de boa viagem."
      ],
      "execution_count": null,
      "outputs": []
    },
    {
      "cell_type": "code",
      "metadata": {
        "colab": {
          "base_uri": "https://localhost:8080/"
        },
        "id": "Ne3hYT1u048n",
        "outputId": "5f14a0dc-5ee7-4b24-b3d1-9ce1bbb9e6b4"
      },
      "source": [
        "#criando a variável que lê a velocidade\n",
        "\n",
        "#lembrar que na função input a variável é lida como STRING\n",
        "\n",
        "#operadores lógicos só são utilizados com números (int, float)\n",
        "\n",
        "velocidade = int(input('Velocidade em Km/h: '))\n",
        "if velocidade >= 90: \n",
        "   print('Você será multado!')\n",
        "else: \n",
        "   print('Boa viagem!')"
      ],
      "execution_count": null,
      "outputs": [
        {
          "output_type": "stream",
          "text": [
            "Velocidade em Km/h: 90\n",
            "Você será multado!\n"
          ],
          "name": "stdout"
        }
      ]
    },
    {
      "cell_type": "markdown",
      "metadata": {
        "id": "PZmEjRzJ2tjb"
      },
      "source": [
        "Crie um código que calcule a média entre três notas de um\n",
        "aluno e apresente como resposta: se o número for maior ou igual a 6, o\n",
        "aluno foi APROVADO; se o resultado for menor do que 6 o aluno foi\n",
        "REPROVADO."
      ]
    },
    {
      "cell_type": "code",
      "metadata": {
        "colab": {
          "base_uri": "https://localhost:8080/"
        },
        "id": "xMT2e3bZ21ou",
        "outputId": "e18cc62c-792c-4e9a-9251-e5bbebf262f4"
      },
      "source": [
        "matematica = int(input('Digite a nota de matemática: '))\n",
        "portugues = int(input('Digite a nota de portugues: '))\n",
        "geografia = int(input('Digite a nota de geografia: '))\n",
        "\n",
        "media = (matematica+portugues+geografia)/3\n",
        "\n",
        "if media >= 6:\n",
        "  print('aluno aprovado!')\n",
        "else:\n",
        "  print('aluno reprovado!')"
      ],
      "execution_count": null,
      "outputs": [
        {
          "output_type": "stream",
          "text": [
            "Digite a nota de matemática: 4\n",
            "Digite a nota de portugues: 7\n",
            "Digite a nota de geografia: 10\n",
            "aluno aprovado!\n"
          ],
          "name": "stdout"
        }
      ]
    },
    {
      "cell_type": "code",
      "metadata": {
        "id": "430Ffifx4Tav"
      },
      "source": [
        "Desenvolva um código que receba um valor inserido pelo\n",
        "usuário e retorne se esse número é PAR ou ÍMPAR."
      ],
      "execution_count": null,
      "outputs": []
    },
    {
      "cell_type": "code",
      "metadata": {
        "colab": {
          "base_uri": "https://localhost:8080/"
        },
        "id": "Qw3Kgq9W6f3e",
        "outputId": "f518754d-7abd-4e0a-874a-7c528666bc1e"
      },
      "source": [
        "numero = int(input('Digite um inteiro: '))\n",
        "\n",
        "if (numero%2) == 0:\n",
        "  print(\"Par\")\n",
        "else:\n",
        "  print(\"Ímpar\")\n"
      ],
      "execution_count": null,
      "outputs": [
        {
          "output_type": "stream",
          "text": [
            "Digite um inteiro: 5\n",
            "Ímpar\n"
          ],
          "name": "stdout"
        }
      ]
    },
    {
      "cell_type": "markdown",
      "metadata": {
        "id": "M871Uex9ONmv"
      },
      "source": [
        "\n",
        "Crie um programa que leia dois números e informe o maior\n",
        "entre eles.\n",
        "\n",
        "\n"
      ]
    },
    {
      "cell_type": "code",
      "metadata": {
        "id": "gy6AKN_HKB7d",
        "colab": {
          "base_uri": "https://localhost:8080/"
        },
        "outputId": "36e86805-0eec-47b9-988a-3a529295212a"
      },
      "source": [
        "numero1 = int(input('Insira um número inteiro: '))\n",
        "numero2 = int(input('Insira um número inteiro: '))\n",
        "\n",
        "#maior numero\n",
        "numero1 > numero2\n",
        "\n",
        "if numero1 > numero2:\n",
        "  print('O número {} é maior que {}'.format(numero1,numero2))\n",
        "else:\n",
        "  print('O número {} não é maior que {}'.format(numero1,numero2))\n",
        "\n",
        "#menor numero\n",
        "numero1 = int(input('Insira um número inteiro: '))\n",
        "numero2 = int(input('Insira um número inteiro: '))\n",
        "\n",
        "numero1 < numero2\n",
        "if numero1 < numero2:\n",
        "  print('O número {} é menor que {}'.format(numero1,numero2))\n",
        "else:\n",
        "  print('O numero {} não é menor que {} inserido'.format(numero1,numero2))\n"
      ],
      "execution_count": null,
      "outputs": [
        {
          "output_type": "stream",
          "text": [
            "Insira um número inteiro: 5\n",
            "Insira um número inteiro: 5\n",
            "O número 5 não é maior que 5\n"
          ],
          "name": "stdout"
        }
      ]
    },
    {
      "cell_type": "markdown",
      "metadata": {
        "id": "O6U-i2xfL5v3"
      },
      "source": [
        "Em um código, leia um número inteiro fornecido pelo\n",
        "usuário e verifique se ele é positivo ou negativo. Se ele for POSITIVO\n",
        "calcule a sua raiz quadrada. Se ele for NEGATIVO calcule o seu valor\n",
        "ao quadrado.\n"
      ]
    },
    {
      "cell_type": "code",
      "metadata": {
        "colab": {
          "base_uri": "https://localhost:8080/"
        },
        "id": "jM_bYw_rMB3B",
        "outputId": "fc0e7a29-76ee-4dec-fa88-3b3ba27dcf10"
      },
      "source": [
        "import math\n",
        "num = int(input('Digite um número: '))\n",
        "raiz_quadrada = math.pow(num,1/2)\n",
        "if num >= 0:\n",
        "  print('POSITIVO')\n",
        "else:\n",
        "  print('NEGATIVO')\n",
        "print(raiz_quadrada)"
      ],
      "execution_count": null,
      "outputs": [
        {
          "output_type": "stream",
          "text": [
            "Digite um número: 16\n",
            "POSITIVO\n",
            "4.0\n"
          ],
          "name": "stdout"
        }
      ]
    },
    {
      "cell_type": "markdown",
      "metadata": {
        "id": "pm4wT2NIOv6H"
      },
      "source": [
        "Faça um programa que calcule o peso ideal de uma\n",
        "pessoa de acordo com seu sexo e altura. Após o cálculo, print qual seria\n",
        "este peso ideal de acordo com os dados recebidos. Utilize as seguintes\n",
        "fórmulas como base, onde h é o valor da altura.\n",
        "\n",
        "Homens: (72,7 * h) – 58\n",
        "Mulheres: (62,1 * h) – 44,7\n"
      ]
    },
    {
      "cell_type": "code",
      "metadata": {
        "colab": {
          "base_uri": "https://localhost:8080/"
        },
        "id": "zpQDItxNO4VI",
        "outputId": "633a6feb-29d9-41aa-8f76-a48a1d8a8eaa"
      },
      "source": [
        "sexo = input('Qual seu sexo?: ')\n",
        "h = float(input('Qual a sua altura?: '))\n",
        "formula_homem = (72.7*h)-58 \n",
        "formula_mulher = (62.1*h)-44.7 \n",
        "\n",
        "if sexo == 'Feminino'.upper():\n",
        "  print('Seu peso ideal é {}'.format(formula_mulher))\n",
        "else:\n",
        "  print('Seu peso ideal é {}'.format(formula_homem))"
      ],
      "execution_count": null,
      "outputs": [
        {
          "output_type": "stream",
          "text": [
            "Qual seu sexo?: Masculino\n",
            "Qual a sua altura?: 1.70\n",
            "Seu peso ideal é 65.59\n"
          ],
          "name": "stdout"
        }
      ]
    },
    {
      "cell_type": "markdown",
      "metadata": {
        "id": "Hr5o0f7lSHT_"
      },
      "source": [
        "Em um supermercado ao comprar 24 ou mais latas de\n",
        "cerveja de uma determinada marca o valor da unidade saí por apenas\n",
        "R$ 2,35. Caso a quantidade de latas seja inferior, o valor da unidade é\n",
        "de R$ 2,75. Desenvolva um algoritmo que calcule, dependendo da\n",
        "\n",
        "quantidade de latas inserida pelo usuário, qual será o valor que deverá\n",
        "ser pago pelas cervejas.\n"
      ]
    },
    {
      "cell_type": "code",
      "metadata": {
        "colab": {
          "base_uri": "https://localhost:8080/"
        },
        "id": "S4g58Kz3SKBE",
        "outputId": "5499ac79-ea10-48f8-b5c3-9f528414941f"
      },
      "source": [
        "#variaveis\n",
        "qtd_cervejas = int(input('quantidade de cervejas: '))\n",
        "valor_desconto = 2.35\n",
        "valor_normal = 2.75\n",
        "\n",
        "#valor por unidade\n",
        "desconto = qtd_cervejas * valor_desconto\n",
        "normal = qtd_cervejas * valor_normal\n",
        "\n",
        "if qtd_cervejas >= 24:\n",
        "  print('Você tem um desconto! Acima de 24 unidades, cada uma custa {}. Seu valor total da compra é de {}'.format(valor_desconto,desconto))\n",
        "else:\n",
        "  print('O valor da sua compra é de {}'.format(normal))"
      ],
      "execution_count": null,
      "outputs": [
        {
          "output_type": "stream",
          "text": [
            "quantidade de cervejas: 24\n",
            "Você tem um desconto! Acima de 24 unidades, cada uma custa 2.35. Seu valor total da compra é de 56.400000000000006\n"
          ],
          "name": "stdout"
        }
      ]
    },
    {
      "cell_type": "markdown",
      "metadata": {
        "id": "tW3OeYL80lHl"
      },
      "source": [
        "outra forma de resolver esse exercicio"
      ]
    },
    {
      "cell_type": "code",
      "metadata": {
        "colab": {
          "base_uri": "https://localhost:8080/"
        },
        "id": "a0qByK6P0jym",
        "outputId": "4efe6cd2-1dc0-4129-af6a-ca67e61108ed"
      },
      "source": [
        "qtd = int(input('Qual a quantidade de cerveja? '))\n",
        "if qtd >= 24:\n",
        "  custo = qtd*2.35\n",
        "  print('Para levar {} latas de cerveja você irá gastar R${}'.format(qtd,custo))\n",
        "else:\n",
        "  custo = qtd*2.75\n",
        "  print('Para levar {} latas de cerveja, você irá gastar R${}'.format(qtd,custo))"
      ],
      "execution_count": null,
      "outputs": [
        {
          "output_type": "stream",
          "text": [
            "Qual a quantidade de cerveja? 50\n",
            "Para levar 50 latas de cerveja você irá gastar R$117.5\n"
          ],
          "name": "stdout"
        }
      ]
    },
    {
      "cell_type": "markdown",
      "metadata": {
        "id": "tXg7uSB_V8wO"
      },
      "source": [
        "Em uma empresa haverá um reajuste salarial, onde o\n",
        "salário do funcionário irá ter um aumento percentual de acordo com o\n",
        "cargo ocupado por ele. Desenvolva um algoritmo que calcule esses\n",
        "reajustes e mostre – os para o usuário de acordo com as normas abaixo:\n",
        "Gerente: salário = R$ 4.295,60; Reajuste: 5%\n",
        "Contador: salário = R$ 3.504,53; Reajuste: 8%"
      ]
    },
    {
      "cell_type": "code",
      "metadata": {
        "id": "C-ZfEo3nWAW-",
        "colab": {
          "base_uri": "https://localhost:8080/",
          "height": 249
        },
        "outputId": "b7de98ce-d808-4db1-dfad-05035d2658e6"
      },
      "source": [
        "#variaveis\n",
        "cargo = input('Digite seu cargo: ')\n",
        "\n",
        "gerente = float('4.29560')\n",
        "contador = float('3.50453')\n",
        "\n",
        "qtd_ajusteg = valor_atualg * 0.05\n",
        "qtd_ajustec = valor_atualc * 0.08\n",
        "\n",
        "valorfinal_g = valor_atualg + qtd_ajusteg\n",
        "valorfinal_c = valor_atualc + qtd_ajustec\n",
        "\n",
        "\n",
        "if cargo == gerente:\n",
        "  print('Com o reajuste de 5% o seu salário atual será de {} reais'.format(valorfinal_g))\n",
        "else:\n",
        "  print('Com o reajuste de 6% o seu salário atual será de {} reais'.format(valorfinal_c))\n"
      ],
      "execution_count": null,
      "outputs": [
        {
          "output_type": "stream",
          "text": [
            "Digite seu cargo: gerente\n"
          ],
          "name": "stdout"
        },
        {
          "output_type": "error",
          "ename": "NameError",
          "evalue": "ignored",
          "traceback": [
            "\u001b[0;31m---------------------------------------------------------------------------\u001b[0m",
            "\u001b[0;31mNameError\u001b[0m                                 Traceback (most recent call last)",
            "\u001b[0;32m<ipython-input-9-02f67899dcd8>\u001b[0m in \u001b[0;36m<module>\u001b[0;34m()\u001b[0m\n\u001b[1;32m     12\u001b[0m \u001b[0;34m\u001b[0m\u001b[0m\n\u001b[1;32m     13\u001b[0m \u001b[0;34m\u001b[0m\u001b[0m\n\u001b[0;32m---> 14\u001b[0;31m \u001b[0;32mif\u001b[0m \u001b[0mcargo\u001b[0m \u001b[0;34m==\u001b[0m \u001b[0mgerente\u001b[0m\u001b[0;34m:\u001b[0m\u001b[0;34m\u001b[0m\u001b[0;34m\u001b[0m\u001b[0m\n\u001b[0m\u001b[1;32m     15\u001b[0m   \u001b[0mprint\u001b[0m\u001b[0;34m(\u001b[0m\u001b[0;34m'Com o reajuste de 5% o seu salário atual será de {} reais'\u001b[0m\u001b[0;34m.\u001b[0m\u001b[0mformat\u001b[0m\u001b[0;34m(\u001b[0m\u001b[0mvalorfinal_g\u001b[0m\u001b[0;34m)\u001b[0m\u001b[0;34m)\u001b[0m\u001b[0;34m\u001b[0m\u001b[0;34m\u001b[0m\u001b[0m\n\u001b[1;32m     16\u001b[0m \u001b[0;32melse\u001b[0m\u001b[0;34m:\u001b[0m\u001b[0;34m\u001b[0m\u001b[0;34m\u001b[0m\u001b[0m\n",
            "\u001b[0;31mNameError\u001b[0m: name 'gerente' is not defined"
          ]
        }
      ]
    },
    {
      "cell_type": "markdown",
      "metadata": {
        "id": "ldR0g9QQe6vY"
      },
      "source": [
        "[texto do link](https://)Crie um código que receba um ano e informe para o\n",
        "usuário se este ano é bissexto ou não. Para um ano ser bissexto ele\n",
        "deve ser divisível por 400 ou se o ano for\n",
        "divisível por 4 e não divisível por 100."
      ]
    },
    {
      "cell_type": "code",
      "metadata": {
        "colab": {
          "base_uri": "https://localhost:8080/"
        },
        "id": "Hh94-eFqe_ZA",
        "outputId": "933e5522-88aa-4fc7-95b4-e97f97ed3d98"
      },
      "source": [
        "ano = int(input('Informe um ano: '))\n",
        "bissexto = ano/400\n",
        "\n",
        "if ano == bissexto:\n",
        "  print('Este é um ano bissexto')\n",
        "else:\n",
        "  print('Esse não é um ano bissexto')"
      ],
      "execution_count": null,
      "outputs": [
        {
          "output_type": "stream",
          "text": [
            "Informe um ano: 2020\n",
            "Esse não é um ano bissexto\n"
          ],
          "name": "stdout"
        }
      ]
    },
    {
      "cell_type": "code",
      "metadata": {
        "colab": {
          "base_uri": "https://localhost:8080/"
        },
        "id": "1PYPHcRLqZl4",
        "outputId": "f43a907e-9311-43c4-edec-6e674d4a4d60"
      },
      "source": [
        "#ex 10 sobre os triangulos\n",
        "l1 = float(input('Insira o valor do lado 1: '))\n",
        "l2 = float(input('Insira o valor do lado 2: '))\n",
        "l3 = float(input('Insira o valor do lado 3: '))\n",
        "\n",
        "#condição, para as retas formarem o triangulo tres lados tem que obedecer a regra:\n",
        "#soma de dois lados serem menor que uma reta\n",
        "#AND todos os critérios são atendidos\n",
        "\n",
        "if l1 < 12 + l3 and l2 < l1 + l3 and l3 < l1 + l2:\n",
        "  print('As retas PODEM formar oum triângulo')\n",
        "else:\n",
        "  print('As retas NÃO podem formar um triângulo')\n"
      ],
      "execution_count": null,
      "outputs": [
        {
          "output_type": "stream",
          "text": [
            "Insira o valor do lado 1: 2\n",
            "Insira o valor do lado 2: 5\n",
            "Insira o valor do lado 3: 10\n",
            "As retas NÃO podem formar um triângulo\n"
          ],
          "name": "stdout"
        }
      ]
    },
    {
      "cell_type": "markdown",
      "metadata": {
        "id": "wioQSvV4iuAS"
      },
      "source": [
        "Crie um programa que faça o computador “pensar” em\n",
        "um número inteiro entre 0 e 5 e peça para o usuário tentar descobrir qual foi\n",
        "o número escolhido pelo computador. O programa deverá escrever na tela\n",
        "se o usuário adivinhou o número ou não."
      ]
    },
    {
      "cell_type": "code",
      "metadata": {
        "colab": {
          "base_uri": "https://localhost:8080/",
          "height": 249
        },
        "id": "e9Y9508givbK",
        "outputId": "d506e3e6-b49a-40c8-bf82-923cd869c52c"
      },
      "source": [
        "n1 = 0 or 5 \n",
        "n_usuario = int(input('Insira o número que você aposta que foi escolhido pelo programa: '))\n",
        "if n_usuario in n1:\n",
        "  print('Você adivinhou o número!')\n",
        "else:\n",
        "  print('Você não adivinhou o número..') "
      ],
      "execution_count": null,
      "outputs": [
        {
          "output_type": "stream",
          "text": [
            "Insira o número que você aposta que foi escolhido pelo programa: 6\n"
          ],
          "name": "stdout"
        },
        {
          "output_type": "error",
          "ename": "TypeError",
          "evalue": "ignored",
          "traceback": [
            "\u001b[0;31m---------------------------------------------------------------------------\u001b[0m",
            "\u001b[0;31mTypeError\u001b[0m                                 Traceback (most recent call last)",
            "\u001b[0;32m<ipython-input-13-c0b1041da7e4>\u001b[0m in \u001b[0;36m<module>\u001b[0;34m()\u001b[0m\n\u001b[1;32m      1\u001b[0m \u001b[0mn1\u001b[0m \u001b[0;34m=\u001b[0m \u001b[0;36m0\u001b[0m \u001b[0;32mor\u001b[0m \u001b[0;36m5\u001b[0m\u001b[0;34m\u001b[0m\u001b[0;34m\u001b[0m\u001b[0m\n\u001b[1;32m      2\u001b[0m \u001b[0mn_usuario\u001b[0m \u001b[0;34m=\u001b[0m \u001b[0mint\u001b[0m\u001b[0;34m(\u001b[0m\u001b[0minput\u001b[0m\u001b[0;34m(\u001b[0m\u001b[0;34m'Insira o número que você aposta que foi escolhido pelo programa: '\u001b[0m\u001b[0;34m)\u001b[0m\u001b[0;34m)\u001b[0m\u001b[0;34m\u001b[0m\u001b[0;34m\u001b[0m\u001b[0m\n\u001b[0;32m----> 3\u001b[0;31m \u001b[0;32mif\u001b[0m \u001b[0mn_usuario\u001b[0m \u001b[0;32min\u001b[0m \u001b[0mn1\u001b[0m\u001b[0;34m:\u001b[0m\u001b[0;34m\u001b[0m\u001b[0;34m\u001b[0m\u001b[0m\n\u001b[0m\u001b[1;32m      4\u001b[0m   \u001b[0mprint\u001b[0m\u001b[0;34m(\u001b[0m\u001b[0;34m'Você adivinhou o número!'\u001b[0m\u001b[0;34m)\u001b[0m\u001b[0;34m\u001b[0m\u001b[0;34m\u001b[0m\u001b[0m\n\u001b[1;32m      5\u001b[0m \u001b[0;32melse\u001b[0m\u001b[0;34m:\u001b[0m\u001b[0;34m\u001b[0m\u001b[0;34m\u001b[0m\u001b[0m\n",
            "\u001b[0;31mTypeError\u001b[0m: argument of type 'int' is not iterable"
          ]
        }
      ]
    }
  ]
}